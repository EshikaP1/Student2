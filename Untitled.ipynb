{
 "cells": [
  {
   "cell_type": "code",
   "execution_count": 2,
   "id": "727ac45a-036d-4b4c-a8a8-d402a15a96ea",
   "metadata": {},
   "outputs": [
    {
     "ename": "SyntaxError",
     "evalue": "invalid syntax (3851579758.py, line 1)",
     "output_type": "error",
     "traceback": [
      "\u001b[0;36m  File \u001b[0;32m\"/tmp/ipykernel_397226/3851579758.py\"\u001b[0;36m, line \u001b[0;32m1\u001b[0m\n\u001b[0;31m    public class Person {\u001b[0m\n\u001b[0m           ^\u001b[0m\n\u001b[0;31mSyntaxError\u001b[0m\u001b[0;31m:\u001b[0m invalid syntax\n"
     ]
    }
   ],
   "source": [
    "public class Person {\n",
    "    String Name;\n",
    "    int Age; \n",
    "    \n",
    "    public Person(String Name, int Age) {\n",
    "        this.Name = Name;\n",
    "        this.Age = Age; \n",
    "    }\n",
    "} \n",
    "public class Dessert {\n",
    "    String type;\n",
    "    double cost;\n",
    "\n",
    "    public Dessert(String type, double cost) {\n",
    "        this.type = type;\n",
    "        this.cost = cost;\n",
    "    }\n",
    "}\n",
    "\n",
    "public class Location {\n",
    "    String city;\n",
    "    String state;\n",
    "    int zipCode; \n",
    "    \n",
    "    public Location(String city, String state, int zipCode) {\n",
    "        this.city = city;\n",
    "        this.state = state;\n",
    "        this.zipCode = zipCode;\n",
    "    }\n",
    "}\n",
    "\n",
    "public class MainTester { \n",
    "    public static void main(String[] args) {\n",
    "    Person Person1 = new Person(\"Andy\",23);\n",
    "    Person Person2 = new Person(\"Bobby\", 23);\n",
    "    Dessert Dessert1 = new Dessert(\"Icecream\", 4.99);\n",
    "    Dessert Dessert2 = new Dessert(\"Brownie\", 5.99);\n",
    "    Location Location1 = new Location(\"San Diego\", \"California\", 92128);\n",
    "    Location Location2 = new Location(\"Las Vegas\", \"Nevada\", 88901);\n",
    "} \n",
    "    \n",
    "system.out.println(\"Person 1:\" + Person1.(Name) + \"Age:\" + Person1.(Age)"
   ]
  },
  {
   "cell_type": "code",
   "execution_count": null,
   "id": "c5d00589-0356-48a7-9c4e-5ed06b0836b2",
   "metadata": {},
   "outputs": [],
   "source": []
  }
 ],
 "metadata": {
  "kernelspec": {
   "display_name": "Python 3 (ipykernel)",
   "language": "python",
   "name": "python3"
  },
  "language_info": {
   "codemirror_mode": {
    "name": "ipython",
    "version": 3
   },
   "file_extension": ".py",
   "mimetype": "text/x-python",
   "name": "python",
   "nbconvert_exporter": "python",
   "pygments_lexer": "ipython3",
   "version": "3.10.12"
  }
 },
 "nbformat": 4,
 "nbformat_minor": 5
}
