{
 "cells": [
  {
   "cell_type": "markdown",
   "metadata": {},
   "source": [
    "---\n",
    "toc: true\n",
    "comments: false\n",
    "layout: post\n",
    "title: Graphing_Calc2\n",
    "description: Time to get your guessign game on\n",
    "type: hacks\n",
    "courses: { compsci: {week: 2} }\n",
    "---"
   ]
  },
  {
   "cell_type": "code",
   "execution_count": 1,
   "metadata": {},
   "outputs": [
    {
     "name": "stdout",
     "output_type": "stream",
     "text": [
      "Graphing Calculator\n",
      "\n",
      "Options:\n",
      "1. Graph a function\n",
      "2. Calculate the derivative\n",
      "3. Calculate the integral\n",
      "4. Evaluate a function\n",
      "5. Quit\n"
     ]
    }
   ],
   "source": [
    "import sympy as sp\n",
    "import matplotlib.pyplot as plt\n",
    "import numpy as np\n",
    "\n",
    "def main():\n",
    "    print(\"Graphing Calculator\")\n",
    "\n",
    "    while True:\n",
    "        print(\"\\nOptions:\")\n",
    "        print(\"1. Graph a function\")\n",
    "        print(\"2. Calculate the derivative\")\n",
    "        print(\"3. Calculate the integral\")\n",
    "        print(\"4. Evaluate a function\")\n",
    "        print(\"5. Quit\")\n",
    "        \n",
    "        choice = input(\"Enter your choice (1/2/3/4/5): \")\n",
    "\n",
    "        if choice == '1':\n",
    "            graph_function()\n",
    "        elif choice == '2':\n",
    "            calculate_derivative()\n",
    "        elif choice == '3':\n",
    "            calculate_integral()\n",
    "        elif choice == '4':\n",
    "            evaluate_function()\n",
    "        elif choice == '5':\n",
    "            break\n",
    "        else:\n",
    "            print(\"Invalid choice. Please try again.\")\n",
    "\n",
    "def graph_function():\n",
    "    expression = input(\"Enter the function (e.g., 'x**2 + sin(x)'): \")\n",
    "    x_min = float(input(\"Enter the minimum x value: \"))\n",
    "    x_max = float(input(\"Enter the maximum x value: \"))\n",
    "    \n",
    "    x = np.linspace(x_min, x_max, 400)\n",
    "    y = [sp.sympify(expression).subs('x', xi).evalf() for xi in x]\n",
    "    \n",
    "    plt.plot(x, y)\n",
    "    plt.title(\"Function Graph\")\n",
    "    plt.xlabel(\"x\")\n",
    "    plt.ylabel(\"f(x)\")\n",
    "    plt.grid(True)\n",
    "    plt.show()\n",
    "\n",
    "def calculate_derivative():\n",
    "    expression = input(\"Enter the function for which you want to calculate the derivative: \")\n",
    "    x = sp.symbols('x')\n",
    "    derivative = sp.diff(expression, x)\n",
    "    print(\"Derivative:\", derivative)\n",
    "\n",
    "def calculate_integral():\n",
    "    expression = input(\"Enter the function for which you want to calculate the integral: \")\n",
    "    x = sp.symbols('x')\n",
    "    integral = sp.integrate(expression, x)\n",
    "    print(\"Integral:\", integral)\n",
    "\n",
    "def evaluate_function():\n",
    "    expression = input(\"Enter the function (e.g., 'x**2 + sin(x)'): \")\n",
    "    value = float(input(\"Enter the value of x: \"))\n",
    "    result = sp.sympify(expression).subs('x', value).evalf()\n",
    "    print(f\"Result: {result}\")\n",
    "\n",
    "if __name__ == \"__main__\":\n",
    "    main()"
   ]
  }
 ],
 "metadata": {
  "kernelspec": {
   "display_name": "Python 3",
   "language": "python",
   "name": "python3"
  },
  "language_info": {
   "codemirror_mode": {
    "name": "ipython",
    "version": 3
   },
   "file_extension": ".py",
   "mimetype": "text/x-python",
   "name": "python",
   "nbconvert_exporter": "python",
   "pygments_lexer": "ipython3",
   "version": "3.10.12"
  },
  "orig_nbformat": 4
 },
 "nbformat": 4,
 "nbformat_minor": 2
}
