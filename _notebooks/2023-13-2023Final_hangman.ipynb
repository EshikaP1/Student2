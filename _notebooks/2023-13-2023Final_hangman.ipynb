{
 "cells": [
  {
   "cell_type": "code",
   "execution_count": 4,
   "metadata": {},
   "outputs": [
    {
     "name": "stderr",
     "output_type": "stream",
     "text": [
      "[nltk_data] Downloading package words to /home/eneter/nltk_data...\n",
      "[nltk_data]   Package words is already up-to-date!\n"
     ]
    },
    {
     "name": "stdout",
     "output_type": "stream",
     "text": [
      "['#', 'e', '#', '#', '#', '#', '#', '#', '#', '#', '#']\n",
      "semistarved\n"
     ]
    }
   ],
   "source": [
    "import nltk\n",
    "nltk.download('words')\n",
    "\n",
    "from nltk.corpus import words\n",
    "import random\n",
    "\n",
    "# Get the list of English words; Making a list is like making a word bank where you can pull one word.\n",
    "english_words = words.words()\n",
    "\n",
    "# Select a random word from the list; The function random.choice lets you do this\n",
    "random_word = random.choice(english_words)\n",
    "\n",
    "Word_list = list(random_word)\n",
    "ListNumb = 0\n",
    "Guessing_Tries = -3\n",
    "LenList = len(Word_list)\n",
    "\n",
    "Printing_Character = '#'\n",
    "Guessing_List = LenList * Printing_Character\n",
    "Guessing_List = list(Guessing_List)\n",
    "\n",
    "    \n",
    "Character = input(\"input a character that is lowercase\")\n",
    "\n",
    "for ListNumb in range(LenList):\n",
    "    if Character == Word_list[ListNumb]:\n",
    "        Guessing_List[ListNumb] = Character\n",
    "        ListNumb = ListNumb + 1\n",
    "        break\n",
    "    elif ListNumb<LenList:\n",
    "        ListNumb = ListNumb + 1\n",
    "    elif ListNumb>LenList:\n",
    "        Guessing_Tries= Guessing_Tries + 1\n",
    "        Character = input(\"input a character that is lowercase\")\n",
    "        print(Guessing_List)\n",
    "        ListNumb = 0 \n",
    "\n",
    "print(Guessing_List)\n",
    "print(random_word)"
   ]
  },
  {
   "cell_type": "code",
   "execution_count": 9,
   "metadata": {},
   "outputs": [
    {
     "name": "stderr",
     "output_type": "stream",
     "text": [
      "[nltk_data] Downloading package words to /home/eneter/nltk_data...\n",
      "[nltk_data]   Package words is already up-to-date!\n"
     ]
    },
    {
     "name": "stdout",
     "output_type": "stream",
     "text": [
      "['#', '#', '#', '#', '#', '#']\n",
      "['#', '#', '#', '#', '#', '#']\n",
      "['#', '#', '#', '#', '#', '#']\n",
      "['#', '#', '#', '#', '#', '#']\n",
      "['#', '#', '#', '#', '#', '#']\n",
      "['#', '#', '#', '#', '#', '#']\n",
      "['#', '#', '#', '#', '#', '#']\n",
      "Good job Guessing! This was your word:fulgor🔥🌹👍 😀 \n"
     ]
    }
   ],
   "source": [
    "from emoji import emojize \n",
    "import nltk\n",
    "nltk.download('words')\n",
    "\n",
    "from nltk.corpus import words\n",
    "import random\n",
    "\n",
    "# Get the list of English words; Making a list is like making a word bank where you can pull one word.\n",
    "english_words = words.words()\n",
    "\n",
    "# Select a random word from the list; The function random.choice lets you do this\n",
    "random_word = random.choice(english_words)\n",
    "\n",
    "Character = input(\"input a character that is lowercase\")\n",
    "\n",
    "Word_list = list(random_word)\n",
    "\n",
    "ListNumb = 0\n",
    "\n",
    "Guessing_Tries = -3\n",
    "\n",
    "LenList = len(Word_list)\n",
    "\n",
    "Printing_Character = '#'\n",
    "\n",
    "Guessing_List = LenList * Printing_Character\n",
    "\n",
    "Guessing_List = list(Guessing_List)\n",
    "\n",
    "Duplicate_Numb=0\n",
    "\n",
    "for ListNumb in range(LenList):\n",
    "    if Character == Word_list[ListNumb]:\n",
    "        Guessing_List[ListNumb] = Character   \n",
    "        ListNumb = ListNumb + 1\n",
    "        print(Guessing_List)\n",
    "    else:\n",
    "        print(Guessing_List)\n",
    "        ListNumb = ListNumb + 1\n",
    "Character = input(\"input a character that is lowercase\")\n",
    "\n",
    "print(Guessing_List)\n",
    "fire = emojize(\":fire:\")\n",
    "flower = emojize(\":rose:\")\n",
    "print(\"Good job Guessing! This was your word:\" + random_word + fire + flower +  (emojize(\":thumbs_up: :grinning_face: \")) )"
   ]
  },
  {
   "cell_type": "code",
   "execution_count": 10,
   "metadata": {},
   "outputs": [
    {
     "name": "stderr",
     "output_type": "stream",
     "text": [
      "[nltk_data] Downloading package words to /home/eneter/nltk_data...\n",
      "[nltk_data]   Package words is already up-to-date!\n"
     ]
    },
    {
     "name": "stdout",
     "output_type": "stream",
     "text": [
      "['#', '#', '#', '#', '#', '#', '#', '#', '#']\n",
      "['#', '#', '#', '#', '#', '#', '#', '#', '#']\n",
      "['#', '#', '#', '#', '#', '#', '#', '#', '#']\n",
      "['#', '#', '#', '#', '#', '#', '#', '#', '#']\n"
     ]
    }
   ],
   "source": [
    "import nltk\n",
    "nltk.download('words')\n",
    "\n",
    "from nltk.corpus import words\n",
    "import random\n",
    "\n",
    "# Get the list of English words; Making a list is like making a word bank where you can pull one word.\n",
    "english_words = words.words()\n",
    "\n",
    "# Select a random word from the list; The function random.choice lets you do this\n",
    "random_word = random.choice(english_words)\n",
    "\n",
    "Character = input(\"input a character that is lowercase\")\n",
    "\n",
    "Word_list = list(random_word)\n",
    "ListNumb = 0\n",
    "LenList = len(Word_list)\n",
    "Printing_Character = '#'\n",
    "Guessing_List = LenList * Printing_Character\n",
    "Guessing_List = list(Guessing_List)\n",
    "\n",
    "for ListNumb in range(LenList):\n",
    "    if Character == Word_list[ListNumb]:\n",
    "        ListNumb = ListNumb + 1\n",
    "        Guessing_List[ListNumb] = Character\n",
    "        Character = input(\"input a character that is lowercase\")\n",
    "        print(Guessing_List)\n",
    "    else:\n",
    "        ListNumb = ListNumb + 1\n",
    "        Character = input(\"input a character that is lowercase\")\n",
    "        print(Guessing_List)\n",
    "\n",
    "print(Guessing_List)\n",
    "print(random_word)"
   ]
  },
  {
   "cell_type": "code",
   "execution_count": 21,
   "metadata": {},
   "outputs": [
    {
     "name": "stdout",
     "output_type": "stream",
     "text": [
      "Good job Guessing! This was your word:Eshika🔥🌹👍 😀 \n"
     ]
    }
   ],
   "source": [
    "random_word=\"Eshika\"\n",
    "fire = emojize(\":fire:\")\n",
    "flower = emojize(\":rose:\")\n",
    "print(\"Good job Guessing! This was your word:\" + random_word + fire + flower +  (emojize(\":thumbs_up: :grinning_face: \")) )"
   ]
  },
  {
   "cell_type": "code",
   "execution_count": 1,
   "metadata": {},
   "outputs": [
    {
     "name": "stdout",
     "output_type": "stream",
     "text": [
      "Congratulations! You guessed the word: turboalternator\n"
     ]
    },
    {
     "name": "stderr",
     "output_type": "stream",
     "text": [
      "[nltk_data] Downloading package words to /home/eneter/nltk_data...\n",
      "[nltk_data]   Package words is already up-to-date!\n"
     ]
    }
   ],
   "source": [
    "import nltk\n",
    "nltk.download('words')\n",
    "\n",
    "from nltk.corpus import words\n",
    "import random\n",
    "\n",
    "# Get the list of English words; Making a list is like making a word bank where you can pull one word.\n",
    "english_words = words.words()\n",
    "\n",
    "# Select a random word from the list; The function random.choice lets you do this\n",
    "random_word = random.choice(english_words)\n",
    "\n",
    "Word_list = list(random_word)\n",
    "ListNumb = 0\n",
    "LenList = len(Word_list)\n",
    "Printing_Character = '#'\n",
    "Guessing_List = LenList * Printing_Character\n",
    "Guessing_List = list(Guessing_List)\n",
    "\n",
    "while '_' in Guessing_List and Guessing_Tries < 6:  # Limit to 6 incorrect guesses\n",
    "    Character = input(\"Input a lowercase character: \").lower()\n",
    "\n",
    "    if len(Character) != 1 or not Character.islower():\n",
    "        print(\"Invalid input. Please enter a lowercase character.\")\n",
    "        continue\n",
    "\n",
    "    character_found = False\n",
    "\n",
    "    for ListNumb in range(LenList):\n",
    "        if Character == Word_list[ListNumb]:\n",
    "            Guessing_List[ListNumb] = Character\n",
    "            character_found = True\n",
    "\n",
    "    if not character_found:\n",
    "        print(f\"{Character} is not in the word.\")\n",
    "        Guessing_Tries += 1\n",
    "\n",
    "    # Display the current state of the word\n",
    "    print(\" \".join(Guessing_List))\n",
    "\n",
    "# End of the game\n",
    "if '_' not in Guessing_List:\n",
    "    print(\"Congratulations! You guessed the word:\", random_word)\n",
    "else:\n",
    "    print(\"Sorry, you ran out of guesses. The word was:\", random_word)\n"
   ]
  }
 ],
 "metadata": {
  "kernelspec": {
   "display_name": "Python 3",
   "language": "python",
   "name": "python3"
  },
  "language_info": {
   "codemirror_mode": {
    "name": "ipython",
    "version": 3
   },
   "file_extension": ".py",
   "mimetype": "text/x-python",
   "name": "python",
   "nbconvert_exporter": "python",
   "pygments_lexer": "ipython3",
   "version": "3.10.12"
  },
  "orig_nbformat": 4
 },
 "nbformat": 4,
 "nbformat_minor": 2
}
