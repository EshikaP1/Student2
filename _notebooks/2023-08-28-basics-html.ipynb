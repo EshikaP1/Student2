{
 "cells": [
  {
   "cell_type": "markdown",
   "metadata": {},
   "source": [
    "---\n",
    "toc: true\n",
    "comments: true\n",
    "layout: post\n",
    "title: Hack for HTML!!!!\n",
    "description: Let's see what goes on this week!\n",
    "type: hacks\n",
    "courses: { compsci: {week: 5}  }\n",
    "---"
   ]
  },
  {
   "cell_type": "raw",
   "metadata": {},
   "source": [
    "{% include nav_basics.html %}\n"
   ]
  },
  {
   "cell_type": "markdown",
   "metadata": {},
   "source": [
    "\n",
    "# How does HTML work?\n",
    "Similar function to Markdown, syntax defines how stuff should be displayed\n",
    "- HTML is based on beginning and closing tags `<tagname>content</tagname>`\n",
    "  - Note the \"/\" on the ending or closing tag of the pair"
   ]
  },
  {
   "cell_type": "markdown",
   "metadata": {},
   "source": [
    "## Compare markdown to html below\n",
    "This below example shows comparison of a [heading](https://www.w3schools.com/html/html_headings.asp) and [paragraph](https://www.w3schools.com/html/html_paragraphs.asp).  Click on links to see many more HTML examples."
   ]
  },
  {
   "cell_type": "code",
   "execution_count": 8,
   "metadata": {},
   "outputs": [
    {
     "data": {
      "text/markdown": [
       "\n",
       "### Markdown: This is a Heading\n",
       "\n",
       "This is a paragraph\n"
      ],
      "text/plain": [
       "<IPython.core.display.Markdown object>"
      ]
     },
     "metadata": {},
     "output_type": "display_data"
    }
   ],
   "source": [
    "%%markdown\n",
    "\n",
    "### Markdown: This is a Heading\n",
    "\n",
    "This is a paragraph\n"
   ]
  },
  {
   "cell_type": "code",
   "execution_count": 9,
   "metadata": {
    "vscode": {
     "languageId": "html"
    }
   },
   "outputs": [
    {
     "data": {
      "text/html": [
       "\n",
       "<h3>HTML: This is a Heading</h3>\n",
       "<p>This is a paragraph.</p>\n"
      ],
      "text/plain": [
       "<IPython.core.display.HTML object>"
      ]
     },
     "metadata": {},
     "output_type": "display_data"
    }
   ],
   "source": [
    "%%html\n",
    "\n",
    "<h3>HTML: This is a Heading</h3>\n",
    "<p>This is a paragraph.</p>"
   ]
  },
  {
   "cell_type": "markdown",
   "metadata": {},
   "source": [
    "# Attributes\n",
    "- Learn about [attributes](https://www.w3schools.com/html/html_attributes.asp) \n",
    "- Tags can have additional info in the form of attributes\n",
    "- Attributes usually come in name/value pairs like: name=\"value\"\n",
    "\n",
    "```html\n",
    "<tagname attribute_name=\"attribute_value\" another_attribute=\"another_value\">inner html text</tagname>\n",
    "```\n",
    "\n",
    "- href example with attribute for web link and inner html to describe link\n",
    "\n",
    "```html\n",
    "<a href=\"https://www.w3schools.com/html/default.asp\">Visit W3Schools HTML Page</a>\n",
    "```"
   ]
  },
  {
   "cell_type": "markdown",
   "metadata": {},
   "source": [
    "## Sample Markdown vs HTML Tags\n",
    "Image Tag - Markdown\n",
    "\n",
    "```md\n",
    "![describe image](link to image)\n",
    "```\n",
    "\n",
    "Image Tag - HTML\n",
    "\n",
    "```html\n",
    "<!-- no content so no end tag, width/height is optional (in pixels) -->\n",
    "<img alt=\"describe image\" src=\"link to image\" width=\"100\" height=\"200\">\n",
    "```\n",
    "\n",
    "Link Tag - Markdown\n",
    "\n",
    "```md\n",
    "[link text](link)\n",
    "```\n",
    "\n",
    "Link Tag - HTML\n",
    "\n",
    "```html\n",
    "<a href=\"link\">link text</a>\n",
    "```\n",
    "\n",
    "Bolded Text - Markdown\n",
    "\n",
    "```md\n",
    "**Bolded Text**\n",
    "```\n",
    "\n",
    "Bolded Text - HTML\n",
    "\n",
    "```md\n",
    "<strong>Bolded Text</strong>\n",
    "```\n",
    "\n",
    "Italic Text - Markdown\n",
    "\n",
    "```md\n",
    "*Italic Text*\n",
    "```\n",
    "\n",
    "Italic Text - HTML\n",
    "\n",
    "```md\n",
    "<i>Italic Text</i>\n",
    "```"
   ]
  },
  {
   "cell_type": "markdown",
   "metadata": {},
   "source": [
    "# More tags (not really in markdown)\n",
    "P tag (just represeants a paragraph/normal text)\n",
    "\n",
    "```html\n",
    "<p>This is a paragraph</p>\n",
    "```\n",
    "\n",
    "Button\n",
    "\n",
    "```html\n",
    "<button>some button text</button>\n",
    "```\n",
    "\n",
    "Div (groups together related content)\n",
    "\n",
    "```html\n",
    "<!-- first information -->\n",
    "<div>\n",
    "    <!-- notice how tags can be put INSIDE eachother -->\n",
    "    <p>This is the first paragarph of section 1</p>\n",
    "    <p>This is the second paragraph of section 1</p>\n",
    "</div>\n",
    "\n",
    "<!-- second information -->\n",
    "<div>\n",
    "    <!-- notice how tags can be put INSIDE eachother -->\n",
    "    <p>This is the first paragarph of section 2</p>\n",
    "    <p>This is the second paragraph of section 2</p>\n",
    "</div>\n",
    "```\n",
    "\n"
   ]
  },
  {
   "cell_type": "markdown",
   "metadata": {},
   "source": [
    "# Resources\n",
    "- https://www.w3schools.com/html/default.asp\n",
    "- I will show a demo of how to find information on this website"
   ]
  },
  {
   "cell_type": "markdown",
   "metadata": {},
   "source": [
    "# HTML Hacks\n",
    "- Below is a wireframe for an HTML element you will create. A wireframe is a rough visual representation of HTML elements on a page and isn't necessarily to scale or have the exact styling that the final HTML will have. Using the syntax above, try to create an HTML snippet that corresponds to the below wireframe.\n",
    "- The \"a tags\" can contain any links that you want\n",
    "\n",
    "![wireframe for html hacks]({{ site.baseurl }}/images/wireframe.png)"
   ]
  },
  {
   "cell_type": "code",
   "execution_count": 2,
   "metadata": {
    "vscode": {
     "languageId": "html"
    }
   },
   "outputs": [
    {
     "data": {
      "text/html": [
       "\n",
       "<h1 style= \"color: rgb(228, 41, 228)\">  Hack for HTML</h1>\n",
       "\n",
       "<div>\n",
       "<p title=\"Lung Cancer \"> <h4>Lung Cancer</h4></p>\n",
       "\n",
       "  \n",
       "</div>\n",
       "<button type=\"button\" title=\"The cancer vaccine OSE2101 has shown promising results in a phase 3 trial for patients with HLA-A2+ advanced NSCLC and secondary resistance to ICIs.\" onclick=\"alert('The cancer vaccine OSE2101 has shown promising results in a phase 3 trial for patients with HLA-A2+ advanced NSCLC and secondary resistance to ICIs.')\">\n",
       "  What's the latest in the world of cancer research?\n",
       "</button>\n",
       "\n",
       "<button type=\"button\"> \n",
       "  <a href = \"https://www.cancertherapyadvisor.com/home/cancer-topics/lung-cancer/ose2101-vaccine-outperforms-standard-care-in-certain-patients-with-nsclc/\" > Link to cancer news article HERE </a>\n",
       "</button> \n",
       "\n",
       "<p title=\"How does Cancer Develop?\"> <h4>How does Cancer Develop?</h4></p>\n",
       "\n",
       "<div>\n",
       "<button type=\"button\">\n",
       "  <a href=\"https://www.khanacademy.org/science/ap-biology/cell-communication-and-cell-cycle/regulation-of-cell-cycle/a/cancer\" title=\"Cell cycle+Cancer\" style=\"color: rgb(32, 32, 91); border: none blue; padding: 5px 64px; background-color: rgba(131, 184, 209, 0.708)\">\n",
       "    Click This helpful Link To learn how Cancer develops!\n",
       "  </a>\n",
       "</button>\n",
       "</div>\n",
       "<!--this is a button which will be made to be diplayed and to be clicked on-->\n",
       "<p style=\"color: darkcyan\"> Prevention </p>\n",
       "<button id=\"Onclick\" onclick=\"addPTagOnButton()\">How can you help to prevent lung cancer (click me)?</button>\n",
       "    <div id=\"OnclickContainer\"></div>\n",
       "\n",
       "    <script>\n",
       "        // Function to create a new paragraph element which will be used every single time the button is clicked because the new message should require a new paragraph!\n",
       "        function createPTag(text) {\n",
       "          //need to create a new element, p, which stands for paragraph. we use .document to do this\n",
       "            var element = document.createElement(\"p\");\n",
       "            element.innerHTML = text;\n",
       "            //  indicating what value the function should be produced as a result\n",
       "            return element;\n",
       "        }\n",
       "\n",
       "        // Function to add a paragraph to the container when the button is clicked\n",
       "        function addPTagOnButton() {\n",
       "            var pTag = createPTag(\"QUIT SMOKING!\");\n",
       "            var div = document.getElementById(\"OnclickContainer\");\n",
       "            div.appendChild(pTag);\n",
       "        }\n",
       "    </script>\n",
       "\n",
       " \n"
      ],
      "text/plain": [
       "<IPython.core.display.HTML object>"
      ]
     },
     "metadata": {},
     "output_type": "display_data"
    }
   ],
   "source": [
    "%%html\n",
    "\n",
    "<h1 style= \"color: rgb(228, 41, 228)\">  Hack for HTML</h1>\n",
    "\n",
    "<div>\n",
    "<p title=\"Lung Cancer \"> <h4>Lung Cancer</h4></p>\n",
    "\n",
    "  \n",
    "</div>\n",
    "<button type=\"button\" title=\"The cancer vaccine OSE2101 has shown promising results in a phase 3 trial for patients with HLA-A2+ advanced NSCLC and secondary resistance to ICIs.\" onclick=\"alert('The cancer vaccine OSE2101 has shown promising results in a phase 3 trial for patients with HLA-A2+ advanced NSCLC and secondary resistance to ICIs.')\">\n",
    "  What's the latest in the world of cancer research?\n",
    "</button>\n",
    "\n",
    "<button type=\"button\"> \n",
    "  <a href = \"https://www.cancertherapyadvisor.com/home/cancer-topics/lung-cancer/ose2101-vaccine-outperforms-standard-care-in-certain-patients-with-nsclc/\" > Link to cancer news article HERE </a>\n",
    "</button> \n",
    "\n",
    "<p title=\"How does Cancer Develop?\"> <h4>How does Cancer Develop?</h4></p>\n",
    "\n",
    "<div>\n",
    "<button type=\"button\">\n",
    "  <a href=\"https://www.khanacademy.org/science/ap-biology/cell-communication-and-cell-cycle/regulation-of-cell-cycle/a/cancer\" title=\"Cell cycle+Cancer\" style=\"color: rgb(32, 32, 91); border: none blue; padding: 5px 64px; background-color: rgba(131, 184, 209, 0.708)\">\n",
    "    Click This helpful Link To learn how Cancer develops!\n",
    "  </a>\n",
    "</button>\n",
    "</div>\n",
    "<!--this is a button which will be made to be diplayed and to be clicked on-->\n",
    "<p style=\"color: darkcyan\"> Prevention </p>\n",
    "<button id=\"Onclick\" onclick=\"addPTagOnButton()\">How can you help to prevent lung cancer (click me)?</button>\n",
    "    <div id=\"OnclickContainer\"></div>\n",
    "\n",
    "    <script>\n",
    "        // Function to create a new paragraph element which will be used every single time the button is clicked because the new message should require a new paragraph!\n",
    "        function createPTag(text) {\n",
    "          //need to create a new element, p, which stands for paragraph. we use .document to do this\n",
    "            var element = document.createElement(\"p\");\n",
    "            element.innerHTML = text;\n",
    "            //  indicating what value the function should be produced as a result\n",
    "            return element;\n",
    "        }\n",
    "\n",
    "        // Function to add a paragraph to the container when the button is clicked\n",
    "        function addPTagOnButton() {\n",
    "            var pTag = createPTag(\"QUIT SMOKING!\");\n",
    "            var div = document.getElementById(\"OnclickContainer\");\n",
    "            div.appendChild(pTag);\n",
    "        }\n",
    "    </script>\n",
    "\n",
    " "
   ]
  }
 ],
 "metadata": {
  "kernelspec": {
   "display_name": "Python 3",
   "language": "python",
   "name": "python3"
  },
  "language_info": {
   "codemirror_mode": {
    "name": "ipython",
    "version": 3
   },
   "file_extension": ".py",
   "mimetype": "text/x-python",
   "name": "python",
   "nbconvert_exporter": "python",
   "pygments_lexer": "ipython3",
   "version": "3.10.12"
  },
  "orig_nbformat": 4
 },
 "nbformat": 4,
 "nbformat_minor": 2
}
