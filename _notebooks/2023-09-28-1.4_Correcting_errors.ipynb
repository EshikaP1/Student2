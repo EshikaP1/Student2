{
 "cells": [
  {
   "cell_type": "markdown",
   "metadata": {},
   "source": [
    "---\n",
    "toc: true\n",
    "comments: true\n",
    "layout: post\n",
    "title: Hack for 1.4 Correcting errors!!!!\n",
    "description: Let's see what goes on this week!\n",
    "type: hacks\n",
    "courses: { compsci: {week: 6}  }\n",
    "---"
   ]
  },
  {
   "cell_type": "markdown",
   "metadata": {},
   "source": [
    "CODE PROVIDED"
   ]
  },
  {
   "cell_type": "code",
   "execution_count": 16,
   "metadata": {},
   "outputs": [
    {
     "data": {
      "application/javascript": "\nvar alphabet = \"abcdefghijklmnopqrstuvwxyz\";\nvar alphabetList = [];\n\nfor (var i = 0; i < 10; i++) {\n\talphabetList.push(i);\n}\n\nconsole.log(alphabetList);\n",
      "text/plain": [
       "<IPython.core.display.Javascript object>"
      ]
     },
     "metadata": {},
     "output_type": "display_data"
    }
   ],
   "source": [
    "%%js\n",
    "\n",
    "var alphabet = \"abcdefghijklmnopqrstuvwxyz\";\n",
    "var alphabetList = [];\n",
    "\n",
    "for (var i = 0; i < 10; i++) {\n",
    "\talphabetList.push(i);\n",
    "}\n",
    "\n",
    "console.log(alphabetList);"
   ]
  },
  {
   "cell_type": "markdown",
   "metadata": {},
   "source": [
    "WHAT I CHANGED"
   ]
  },
  {
   "cell_type": "code",
   "execution_count": 15,
   "metadata": {},
   "outputs": [
    {
     "data": {
      "application/javascript": "\nvar alphabet = \"abcdefghijklmnopqrstuvwxyz\";\nvar alphabetList = [];\n\nfor (var i = 0; i < 26; i++) {\n    alphabetList.push(alphabet[i]);\n}\n\nconsole.log(alphabetList);\n",
      "text/plain": [
       "<IPython.core.display.Javascript object>"
      ]
     },
     "metadata": {},
     "output_type": "display_data"
    }
   ],
   "source": [
    "%%js\n",
    "\n",
    "var alphabet = \"abcdefghijklmnopqrstuvwxyz\";\n",
    "var alphabetList = [];\n",
    "\n",
    "for (var i = 0; i < 26; i++) {\n",
    "    alphabetList.push(alphabet[i]);\n",
    "}\n",
    "\n",
    "console.log(alphabetList);\n"
   ]
  },
  {
   "cell_type": "markdown",
   "metadata": {},
   "source": [
    "WHAT WAS PROVIDED"
   ]
  },
  {
   "cell_type": "code",
   "execution_count": 14,
   "metadata": {},
   "outputs": [
    {
     "data": {
      "application/javascript": "\n// Copy your previous code to built alphabetList here\n\nlet letterNumber = 5\n\nfor (var i = 0; i < alphabetList; i++) {\n\tif (i === letterNumber) {\n\t\tconsole.log(letterNumber + \" is letter number 1 in the alphabet\")\n\t}\n}\n",
      "text/plain": [
       "<IPython.core.display.Javascript object>"
      ]
     },
     "metadata": {},
     "output_type": "display_data"
    }
   ],
   "source": [
    "%%js\n",
    "\n",
    "// Copy your previous code to built alphabetList here\n",
    "\n",
    "let letterNumber = 5\n",
    "\n",
    "for (var i = 0; i < alphabetList; i++) {\n",
    "\tif (i === letterNumber) {\n",
    "\t\tconsole.log(letterNumber + \" is letter number 1 in the alphabet\")\n",
    "\t}\n",
    "}"
   ]
  },
  {
   "cell_type": "markdown",
   "metadata": {},
   "source": [
    "WHAT I CHANGED"
   ]
  },
  {
   "cell_type": "code",
   "execution_count": 13,
   "metadata": {},
   "outputs": [
    {
     "data": {
      "application/javascript": "\nvar alphabet = \"abcdefghijklmnopqrstuvwxyz\";\nvar alphabetList = [];\n\nfor (var i = 0; i < 26; i++) {\n    alphabetList.push(alphabet[i]);\n}\n\nconsole.log(alphabetList);\n\nlet letterNumber = 1\n\nfor (var i = 0; i < alphabetList.length; i++) {\n\tif (i === letterNumber - 1 ) {\n\t\tconsole.log(alphabetList[i] + \" is letter number\"+ letterNumber + \"in the alphabet\")\n\t}\n}\n",
      "text/plain": [
       "<IPython.core.display.Javascript object>"
      ]
     },
     "metadata": {},
     "output_type": "display_data"
    }
   ],
   "source": [
    "%%js\n",
    "\n",
    "var alphabet = \"abcdefghijklmnopqrstuvwxyz\";\n",
    "var alphabetList = [];\n",
    "\n",
    "for (var i = 0; i < 26; i++) {\n",
    "    alphabetList.push(alphabet[i]);\n",
    "}\n",
    "\n",
    "console.log(alphabetList);\n",
    "\n",
    "let letterNumber = 1\n",
    "\n",
    "for (var i = 0; i < alphabetList.length; i++) {\n",
    "\tif (i === letterNumber - 1 ) {\n",
    "\t\tconsole.log(alphabetList[i] + \" is letter number\"+ letterNumber + \"in the alphabet\")\n",
    "\t}\n",
    "}"
   ]
  },
  {
   "cell_type": "markdown",
   "metadata": {},
   "source": [
    "WHAT WAS GIVEN"
   ]
  },
  {
   "cell_type": "code",
   "execution_count": 5,
   "metadata": {},
   "outputs": [
    {
     "data": {
      "application/javascript": "\nvar numbers = []\nvar newNumbers = []\nvar i = 0\n\nwhile (i < 100) {\n    numbers.push(i)\n    i += 1\n}\nfor (var i of numbers) {\n    if (numbers[i] % 5 === 0)\n        newNumbers.push(numbers[i])\n    if (numbers[i] % 2 === 0)\n        newNumbers.push(numbers[i])\n}\nconsole.log(newNumbers) \n",
      "text/plain": [
       "<IPython.core.display.Javascript object>"
      ]
     },
     "metadata": {},
     "output_type": "display_data"
    }
   ],
   "source": [
    "%%js\n",
    "\n",
    "var numbers = []\n",
    "var newNumbers = []\n",
    "var i = 0\n",
    "\n",
    "while (i < 100) {\n",
    "    numbers.push(i)\n",
    "    i += 1\n",
    "}\n",
    "for (var i of numbers) {\n",
    "    if (numbers[i] % 5 === 0)\n",
    "        newNumbers.push(numbers[i])\n",
    "    if (numbers[i] % 2 === 0)\n",
    "        newNumbers.push(numbers[i])\n",
    "}\n",
    "console.log(newNumbers) "
   ]
  },
  {
   "cell_type": "markdown",
   "metadata": {},
   "source": [
    "WHAT I DID: \n",
    "\n",
    "using the two straight lines, I was able to not only print out each multiple of 2 and 5 once, but was also able to get the multiples of both 2 and 5. The prioblem with the previous code is it didn't account for duplicates. "
   ]
  },
  {
   "cell_type": "code",
   "execution_count": 6,
   "metadata": {},
   "outputs": [
    {
     "data": {
      "application/javascript": "\nvar numbers = []\nvar newNumbers = []\nvar i = 0\n\nwhile (i < 100) {\n    numbers.push(i)\n    i += 1\n}\nfor (var i = 0; i<numbers.length; i++) {\n    if (numbers[i] % 2 === 0 || numbers[i] % 5 === 0){\n        newNumbers.push(numbers[i]); \n}\n\nconsole.log(newNumbers) \n",
      "text/plain": [
       "<IPython.core.display.Javascript object>"
      ]
     },
     "metadata": {},
     "output_type": "display_data"
    }
   ],
   "source": [
    "%%js\n",
    "\n",
    "var numbers = []\n",
    "var newNumbers = []\n",
    "var i = 0\n",
    "\n",
    "while (i < 100) {\n",
    "    numbers.push(i)\n",
    "    i += 1\n",
    "}\n",
    "for (var i = 0; i<numbers.length; i++) {\n",
    "    if (numbers[i] % 2 === 0 || numbers[i] % 5 === 0){\n",
    "        newNumbers.push(numbers[i]); \n",
    "}\n",
    "\n",
    "console.log(newNumbers) "
   ]
  },
  {
   "cell_type": "markdown",
   "metadata": {},
   "source": [
    "WHAT WAS GIVEN"
   ]
  },
  {
   "cell_type": "code",
   "execution_count": 7,
   "metadata": {},
   "outputs": [
    {
     "data": {
      "application/javascript": "\nvar menu =  {\"burger\": 3.99,\n         \"fries\": 1.99,\n         \"drink\": 0.99}\nvar total = 0\n\n//shows the user the menu and prompts them to select an item\nconsole.log(\"Menu\")\nfor (var item in menu) {\n    console.log(item + \"  $\" + menu[item].toFixed(2)) //why is toFixed used?\n}\n//ideally the code should support mutliple items\nvar item = \"burger\"\n\n//code should add the price of the menu items selected by the user \nconsole.log(total)\n",
      "text/plain": [
       "<IPython.core.display.Javascript object>"
      ]
     },
     "metadata": {},
     "output_type": "display_data"
    }
   ],
   "source": [
    "%%js\n",
    "\n",
    "var menu =  {\"burger\": 3.99,\n",
    "         \"fries\": 1.99,\n",
    "         \"drink\": 0.99}\n",
    "var total = 0\n",
    "\n",
    "//shows the user the menu and prompts them to select an item\n",
    "console.log(\"Menu\")\n",
    "for (var item in menu) {\n",
    "    console.log(item + \"  $\" + menu[item].toFixed(2)) //why is toFixed used?\n",
    "}\n",
    "//ideally the code should support mutliple items\n",
    "var item = \"burger\"\n",
    "\n",
    "//code should add the price of the menu items selected by the user \n",
    "console.log(total)"
   ]
  },
  {
   "cell_type": "markdown",
   "metadata": {},
   "source": [
    "WHAT I DID"
   ]
  },
  {
   "cell_type": "code",
   "execution_count": 8,
   "metadata": {},
   "outputs": [
    {
     "data": {
      "application/javascript": "var menu =  {\"burger\": 3.99,\n         \"fries\": 1.99,\n         \"drink\": 0.99}\nvar total = 0\n\n//shows the user the menu and prompts them to select an item\nconsole.log(\"Menu\")\nvar item = prompt(\"Can you input what item you want please\")\n\n//uses a for loop to get the price for each item and add it to the total. \nfor (var item.toLowerCase in menu) {\n    //this code should get the number which is stored in the food name\n    var price= menu[item];\n    //add it to the total\n    total +=price;\n    console.log(\"your total is\" + total.toFixed(2));\n}\n\n\n\n//code should add the price of the menu items selected by the user and output the total\nconsole.log(\"Final total is\" + total)\n",
      "text/plain": [
       "<IPython.core.display.Javascript object>"
      ]
     },
     "metadata": {},
     "output_type": "display_data"
    }
   ],
   "source": [
    "%%js\n",
    "var menu =  {\"burger\": 3.99,\n",
    "         \"fries\": 1.99,\n",
    "         \"drink\": 0.99}\n",
    "var total = 0\n",
    "\n",
    "//shows the user the menu and prompts them to select an item\n",
    "console.log(\"Menu\")\n",
    "var item = prompt(\"Can you input what item you want please\")\n",
    "\n",
    "//uses a for loop to get the price for each item and add it to the total. \n",
    "for (var item.toLowerCase in menu) {\n",
    "    //this code should get the number which is stored in the food name\n",
    "    var price= menu[item];\n",
    "    //add it to the total\n",
    "    total +=price;\n",
    "    console.log(\"your total is\" + total.toFixed(2));\n",
    "}\n",
    "\n",
    "\n",
    "\n",
    "//code should add the price of the menu items selected by the user and output the total\n",
    "console.log(\"Final total is\" + total)"
   ]
  },
  {
   "cell_type": "markdown",
   "metadata": {},
   "source": [
    "How ever, there is an error in the code I provided. it would be wrong to have item.toLowerCase in the for loop"
   ]
  },
  {
   "cell_type": "code",
   "execution_count": 12,
   "metadata": {},
   "outputs": [
    {
     "data": {
      "application/javascript": "\nvar menu = {\n    \"burger\": 3.99,\n    \"fries\": 1.99,\n    \"drink\": 0.99\n};\n\nvar total = 0;\n\n// Show the user the menu and prompt them to select an item\nconsole.log(\"Menu\");\nvar item = prompt(\"Can you input what item you want please\");\n\n//Convert the users input to lowercase for case-insensitive comparison\nitem = item.toLowerCase();\n\n// Use a different variable (menuItem) for the loop\nfor (var menuItem in menu) {\n    if (menuItem == item) {\n        // Get the price for the selected item\n        var price = menu[menuItem];\n        total += price;\n        console.log(\"Added \" + menuItem + \" to your order. Your total is $\" + total.toFixed(2));\n        break; // Exit the loop once the item is found\n    }\n}\n\n// Check if the item was not found in the menu\nif (total === 0) {\n    console.log(\"Item not found in the menu\");\n}\n\n// Display the final total\nconsole.log(\"Final total is $\" + total.toFixed(2));\n",
      "text/plain": [
       "<IPython.core.display.Javascript object>"
      ]
     },
     "metadata": {},
     "output_type": "display_data"
    }
   ],
   "source": [
    "%%js\n",
    "\n",
    "var menu = {\n",
    "    \"burger\": 3.99,\n",
    "    \"fries\": 1.99,\n",
    "    \"drink\": 0.99\n",
    "};\n",
    "\n",
    "var total = 0;\n",
    "\n",
    "// Show the user the menu and prompt them to select an item\n",
    "console.log(\"Menu\");\n",
    "var item = prompt(\"Can you input what item you want please\");\n",
    "\n",
    "//Convert the user's input to lowercase for case-insensitive comparison\n",
    "item = item.toLowerCase();\n",
    "\n",
    "// Use a different variable (menuItem) for the loop\n",
    "for (var menuItem in menu) {\n",
    "    if (menuItem == item) {\n",
    "        // Get the price for the selected item\n",
    "        var price = menu[menuItem];\n",
    "        total += price;\n",
    "        console.log(\"Added \" + menuItem + \" to your order. Your total is $\" + total.toFixed(2));\n",
    "        break; // Exit the loop once the item is found\n",
    "    }\n",
    "}\n",
    "\n",
    "// Check if the item was not found in the menu\n",
    "if (total === 0) {\n",
    "    console.log(\"Item not found in the menu\");\n",
    "}\n",
    "\n",
    "// Display the final total\n",
    "console.log(\"Final total is $\" + total.toFixed(2));\n"
   ]
  }
 ],
 "metadata": {
  "kernelspec": {
   "display_name": "Python 3",
   "language": "python",
   "name": "python3"
  },
  "language_info": {
   "codemirror_mode": {
    "name": "ipython",
    "version": 3
   },
   "file_extension": ".py",
   "mimetype": "text/x-python",
   "name": "python",
   "nbconvert_exporter": "python",
   "pygments_lexer": "ipython3",
   "version": "3.10.12"
  },
  "orig_nbformat": 4
 },
 "nbformat": 4,
 "nbformat_minor": 2
}
