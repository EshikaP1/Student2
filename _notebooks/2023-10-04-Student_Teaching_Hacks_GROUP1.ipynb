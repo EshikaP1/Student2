{
 "cells": [
  {
   "cell_type": "markdown",
   "metadata": {},
   "source": [
    "---\n",
    "toc: true\n",
    "comments: false\n",
    "layout: post\n",
    "title: Student Teaching hacks group 1 \n",
    "description: Example Blog!!!  This shows planning and notes from hacks.\n",
    "type: hacks\n",
    "courses: { compsci: {week: 7} }\n",
    "---"
   ]
  },
  {
   "cell_type": "markdown",
   "metadata": {},
   "source": [
    "group 1: Data abstraction\n",
    "bolean: True or false statement"
   ]
  },
  {
   "cell_type": "code",
   "execution_count": 2,
   "metadata": {},
   "outputs": [
    {
     "name": "stdout",
     "output_type": "stream",
     "text": [
      "Hello world\n"
     ]
    }
   ],
   "source": [
    "first_variable = \"Hello world\"\n",
    "print(first_variable)"
   ]
  },
  {
   "cell_type": "code",
   "execution_count": 7,
   "metadata": {},
   "outputs": [
    {
     "name": "stdout",
     "output_type": "stream",
     "text": [
      "15 Aditi True\n"
     ]
    }
   ],
   "source": [
    "age= 15\n",
    "name = \"Aditi\"\n",
    "fail= True\n",
    "print(age, name, fail)"
   ]
  },
  {
   "cell_type": "code",
   "execution_count": 12,
   "metadata": {},
   "outputs": [
    {
     "name": "stdout",
     "output_type": "stream",
     "text": [
      "cindy1 cindy1 Eshika4 cindy1\n",
      "cindy1\n",
      "Eshika4\n"
     ]
    }
   ],
   "source": [
    "kid1 = \"aditi\"\n",
    "kid2 = \"aditi2\"\n",
    "kid3 = \"cindy1\"\n",
    "kid4 = \"Eshika4\"\n",
    "\n",
    "kid1=kid3\n",
    "kid2=kid3\n",
    "kid3=kid4\n",
    "kid4=kid1 \n",
    "\n",
    "print(kid1,kid2,kid3,kid4)\n",
    "\n",
    "kid_list = [kid1, kid2, kid3, kid4, \"Aditi1\", True, 45]\n",
    "print(kid_list[0])\n",
    "print(kid_list[2])"
   ]
  },
  {
   "cell_type": "markdown",
   "metadata": {},
   "source": [
    "Homework"
   ]
  },
  {
   "cell_type": "code",
   "execution_count": 3,
   "metadata": {},
   "outputs": [
    {
     "name": "stdout",
     "output_type": "stream",
     "text": [
      "esh is 15 years old.\n",
      "Arn is 13 years old.\n",
      "aditi is 14 years old.\n",
      "Cindy is 16 years old.\n"
     ]
    }
   ],
   "source": [
    "# this is the established class for your variables name and age\n",
    "class Person:\n",
    "    def __init__(self, name, age):\n",
    "        self.name = name\n",
    "        self.age = age\n",
    "        # The self is used to represent the instance of the class. With this keyword, you can access the attributes and methods of the class in python. \n",
    "        # It binds the attributes with the given arguments. The reason why we use self is that Python does not use the '@' syntax to refer to instance attributes\n",
    "final = []\n",
    "\n",
    "#this is your function which will input ONE name and ask for the respective age as well. It will then be stored into this variable as person. So person has both a name and an age in it. \n",
    "# Person is appended or added to the list in the end\n",
    "# The x variable is used to ask for continuation incase there are more people. \n",
    "def person_list():\n",
    "    x = \"Y\"\n",
    "    while x == \"Y\":\n",
    "        name = input(\"Input ONE name: \")\n",
    "        age = input(\"Input RESPECTIVE age: \")\n",
    "        person = Person(name, age)\n",
    "        final.append(person)\n",
    "        x = input(\"Input 'Y' for more people or 'N' to stop: \").upper()\n",
    "\n",
    "person_list()\n",
    "#this code is used to print the name of only one person and their age next to it. Because person has 2 variables in it, the one index will have both age and name. Since we created the class name and age, we can use this to get the name and age for the one index. \n",
    "for i in range (len(final)):\n",
    "    print(f\"{final[i].name} is {final[i].age} years old.\")\n",
    "    i = i+1\n"
   ]
  },
  {
   "cell_type": "markdown",
   "metadata": {},
   "source": [
    "other spins to the assignment given: "
   ]
  },
  {
   "cell_type": "code",
   "execution_count": 2,
   "metadata": {},
   "outputs": [
    {
     "name": "stdout",
     "output_type": "stream",
     "text": [
      "m is 8\n",
      "n is 9\n"
     ]
    }
   ],
   "source": [
    "people_list = []\n",
    "ages_list = []\n",
    "while True:\n",
    "    name = input(\"Input a name (or 'N' to stop): \")\n",
    "    \n",
    "    if name == 'N':\n",
    "        break\n",
    "    people_list.append(name)\n",
    "    \n",
    "    age = input(\"Input the age for that person: \")\n",
    "    ages_list.append(age)\n",
    "    \n",
    "for x in range(len(people_list)):\n",
    "    print(people_list[x] + \" \" + \"is\"+ \" \" + ages_list[x])\n",
    "    x= x+1"
   ]
  },
  {
   "cell_type": "code",
   "execution_count": 3,
   "metadata": {},
   "outputs": [
    {
     "name": "stdout",
     "output_type": "stream",
     "text": [
      "17\n"
     ]
    }
   ],
   "source": [
    "people= {\n",
    "    \"bob\":15,\n",
    "    \"Sally\":17,\n",
    "    \"George\": 13,\n",
    "    \"Billy\":16,\n",
    "}\n",
    "\n",
    "def oldest_person(people):\n",
    "    age_list=[]\n",
    "    for person in people:\n",
    "        age= people[person]\n",
    "        age_list.append(age)\n",
    "    oldest = max(age_list)\n",
    "    print(oldest)\n",
    "\n",
    "oldest_person(people) \n",
    "        "
   ]
  }
 ],
 "metadata": {
  "kernelspec": {
   "display_name": "Python 3",
   "language": "python",
   "name": "python3"
  },
  "language_info": {
   "codemirror_mode": {
    "name": "ipython",
    "version": 3
   },
   "file_extension": ".py",
   "mimetype": "text/x-python",
   "name": "python",
   "nbconvert_exporter": "python",
   "pygments_lexer": "ipython3",
   "version": "3.10.12"
  }
 },
 "nbformat": 4,
 "nbformat_minor": 2
}
