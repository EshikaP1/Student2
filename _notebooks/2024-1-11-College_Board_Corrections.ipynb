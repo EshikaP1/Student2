{
 "cells": [
  {
   "cell_type": "markdown",
   "metadata": {},
   "source": [
    "---\n",
    "toc: false\n",
    "comments: true\n",
    "layout: post\n",
    "title: College board corrections\n",
    "description: hacker\n",
    "type: hacks\n",
    "courses: { compsci: {week: 17} }\n",
    "---"
   ]
  },
  {
   "cell_type": "markdown",
   "metadata": {},
   "source": [
    "On college board, I learned a lot when I did test corrections. I also researched concepts and ideas I wasn't familiar with. \n",
    "Test corrections: \n",
    "#10: The reason why D is wrong is because even though the age is sorted out correctly, you would be forcing them to do the includes tour if they are below 12. Also there is no way for anyone above 12 to do the tour, which makes the code unreliable. \n",
    "\n",
    "#12: The reason why A is wrong is because 001000101 is not equivalent to 75l, it is 69. The correct answe is C because 01001011 is 75. \n",
    "\n",
    "#14: C is wrong because it would result in an infinite loop unless the number was a multiple of 10. B is correct because it would continue to print until it is 0 by getting rid of the remainder. \n",
    "\n",
    "#23: The sign is wrong. It cant be miles >=20 since the flow chart only contains the value of miles<20. \n",
    "\n",
    "#38: Ip addresses aren’t hierarchical. IPv6 allows for more addresses to connect to the internet compared to IPv4. This make IPv6 more efficient and reliable than the other versions. \n",
    "\n",
    "#47: The reason why the list must be in an order is because in order for a binary search on a list to work, the list must be in a sorted order. \n",
    "\n",
    "#50: Computers nowadays can do programs very fast. This means that even though n may be a big number, the computer will be able to handle it at a reasonable time. This is especially true since it would take a human more time to complete the program versus the computer. \n",
    "\n",
    "#67: The reason why C is wrong is because or this code segment, count is increased to 1 when \"oak\" is encountered as the last element of the list. The loop then terminates and the procedure returns the intended result 1.\n"
   ]
  },
  {
   "cell_type": "markdown",
   "metadata": {},
   "source": [
    "Through the process of test corrections on College Board, I not only rectified specific errors but also deepened my comprehension of diverse topics. Analyzing each question revealed the intricacies of code logic and algorithmic principles. I learned the importance of precision in coding, such as ensuring that conditions are accurately set to avoid unreliable outcomes. The corrections underscored the significance of understanding binary representations, loop structures, and the necessity for sorted data in certain algorithms like binary search. Furthermore, the exploration of IP addresses provided insights into the advantages of IPv6 over IPv4, emphasizing efficiency and reliability. Overall, the experience expanded my problem-solving skills, honed my attention to detail, and reinforced the idea that a solid understanding of fundamental concepts is crucial for effective problem resolution in computer science."
   ]
  }
 ],
 "metadata": {
  "language_info": {
   "name": "python"
  }
 },
 "nbformat": 4,
 "nbformat_minor": 2
}
