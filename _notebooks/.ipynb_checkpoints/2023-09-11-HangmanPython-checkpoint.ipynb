{
 "cells": [
  {
   "cell_type": "code",
   "execution_count": 1,
   "metadata": {},
   "outputs": [
    {
     "name": "stdout",
     "output_type": "stream",
     "text": [
      "👍 Python is awesome! 😀\n"
     ]
    },
    {
     "name": "stderr",
     "output_type": "stream",
     "text": [
      "[nltk_data] Downloading package words to /home/eneter/nltk_data...\n",
      "[nltk_data]   Unzipping corpora/words.zip.\n"
     ]
    }
   ],
   "source": [
    "from emoji import emojize \n",
    "print(emojize(\":thumbs_up: Python is awesome! :grinning_face:\")) \n",
    "\n",
    "# nltk is a package that dowloads a lot of English words. It allows you to break many words into tokens or individual words.\n",
    "# importing nltk allows you to use the python libraries abilities to use for your own purposes.\n",
    "import nltk\n",
    "# SUed to download a specific dataset of words from the natural language toolkit.\n",
    "nltk.download('words')\n",
    "\n",
    "from nltk.corpus import words\n",
    "import random\n",
    "\n",
    "# Get the list of English words; Makign a list is like making a word bank where you can pull on word.\n",
    "english_words = words.words()\n",
    "\n",
    "# Select a random word from the list; The fucntion Random.choice lets you do this\n",
    "random_word = random.choice(english_words)\n",
    "\n",
    "Character= input(\"input a character that is lowercase\")\n",
    "\n",
    "\n",
    "for x in random_word:\n",
    "    Word_list= random_word.append(x)\n",
    "\n",
    "ListNumb=0\n",
    "LenList = len(Word_list)\n",
    "Printing_Character= '#'\n",
    "Guessing_List= LenList * Printing_Character\n",
    "\n",
    "while LenList == LenList:\n",
    "    for Character in Word_list(ListNumb):\n",
    "        v = Word_list(ListNumb)\n",
    "        ListNumb = ListNumb+1\n",
    "        Guessing_List[ListNumb]= v\n",
    "\n",
    "print(Guessing_List)   "
   ]
  }
 ],
 "metadata": {
  "kernelspec": {
   "display_name": "Python 3",
   "language": "python",
   "name": "python3"
  },
  "language_info": {
   "codemirror_mode": {
    "name": "ipython",
    "version": 3
   },
   "file_extension": ".py",
   "mimetype": "text/x-python",
   "name": "python",
   "nbconvert_exporter": "python",
   "pygments_lexer": "ipython3",
   "version": "3.10.12"
  },
  "orig_nbformat": 4
 },
 "nbformat": 4,
 "nbformat_minor": 2
}
