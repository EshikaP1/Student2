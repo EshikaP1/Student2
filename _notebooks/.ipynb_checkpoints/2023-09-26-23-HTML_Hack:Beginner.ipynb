{
 "cells": [
  {
   "cell_type": "code",
   "execution_count": null,
   "metadata": {},
   "outputs": [],
   "source": [
    "---\n",
    "toc: true\n",
    "comments: false\n",
    "layout: post\n",
    "title: Hack for HTML\n",
    "description: Let's see what goes on this week!\n",
    "type: hacks\n",
    "courses: { compsci: {week: 6}  }\n",
    "---\n",
    "\n",
    "\n",
    "%%html\n",
    "<h3 Hack for HTML>\n",
    "\n",
    "<div>\n",
    "<p title=\"biology review\"> I need to study for Evolution. Care to join? We will go over these topics:\n",
    "    - Natural selection\n",
    "    - Adaptation\n",
    "    - Hardy-Weinberg\n",
    "    - Genetic drift-> bottleneck and founder effect </p>\n",
    "<div> \n",
    "\n",
    "<button type =\"Khan Academy\" href= https://www.khanacademy.org/science/ap-biology/natural-selection/phylogeny/a/phylogenetic-trees title=\"Phylogentic Trees\" style=\"color:Green\" > Click This helpful Link! </button>"
   ]
  }
 ],
 "metadata": {
  "language_info": {
   "name": "python"
  },
  "orig_nbformat": 4
 },
 "nbformat": 4,
 "nbformat_minor": 2
}
