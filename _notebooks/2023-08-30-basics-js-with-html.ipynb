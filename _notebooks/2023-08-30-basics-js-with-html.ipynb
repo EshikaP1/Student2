{
 "cells": [
  {
   "cell_type": "markdown",
   "metadata": {},
   "source": [
    "---\n",
    "toc: true\n",
    "comments: false\n",
    "layout: post\n",
    "title: Hack for HTML+JS!!!!\n",
    "description: Let's see what goes on this week!\n",
    "type: hacks\n",
    "courses: { compsci: {week: 6}  }\n",
    "---"
   ]
  },
  {
   "cell_type": "raw",
   "metadata": {},
   "source": [
    "{% include nav_basics.html %}\n"
   ]
  },
  {
   "cell_type": "markdown",
   "metadata": {},
   "source": [
    "\n",
    "# Following along\n",
    "Remember to \"git pull\" on teacher repository to update to lates.\n",
    "- Run this notebook in VSCode\n",
    "- Activate Help-Toogel Developer Tools to add console outputs to runtime experience"
   ]
  },
  {
   "cell_type": "markdown",
   "metadata": {},
   "source": [
    "# Referencing HTML elements using javascript\n",
    "- To get an HTML element, use ``document.getElementById(\"idTag\")``\n",
    "- You will use the ID that you set in your HTML\n",
    "- if you `console.log` the resulting variable you will get some information about the element"
   ]
  },
  {
   "cell_type": "code",
   "execution_count": 49,
   "metadata": {},
   "outputs": [
    {
     "data": {
      "text/html": [
       "<!-- the ID must be specified within the element -->\n",
       "<h1 id=\"domTitleID\">My Title</h1>\n",
       "\n",
       "<!-- javascript goes here -->\n",
       "<script>\n",
       "var titleElement = document.getElementById(\"domTitleID\")\n",
       "<!-- outputs h1 tag -->\n",
       "console.log(\"Example #1, show element in DOM\")\n",
       "console.log(titleElement)\n",
       "</script>\n"
      ],
      "text/plain": [
       "<IPython.core.display.HTML object>"
      ]
     },
     "metadata": {},
     "output_type": "display_data"
    }
   ],
   "source": [
    "%%html\n",
    "<!-- the ID must be specified within the element -->\n",
    "<h1 id=\"domTitleID\">My Title</h1>\n",
    "\n",
    "<!-- javascript goes here -->\n",
    "<script>\n",
    "var titleElement = document.getElementById(\"domTitleID\")\n",
    "<!-- outputs h1 tag -->\n",
    "console.log(\"Example #1, show element in DOM\")\n",
    "console.log(titleElement)\n",
    "</script>"
   ]
  },
  {
   "cell_type": "markdown",
   "metadata": {},
   "source": [
    "# Getting the data within the HTML element\n",
    "- The variable titleElement stores the \"object\"\n",
    "- Basically think of this as the group of data enclosed in HTML tag\n",
    "- To access a certain type of data from an \"object\" we use \".\" notation\n",
    "  - .innerHTML gets data within center of tag"
   ]
  },
  {
   "cell_type": "code",
   "execution_count": 55,
   "metadata": {},
   "outputs": [
    {
     "data": {
      "text/html": [
       "<!-- the ID must be specified within the element -->\n",
       "##<h1 id=\"domTitleIDget\">My Title</h1>\n",
       "\n",
       "<!-- javascript goes here -->\n",
       "<script>\n",
       "#var titleElement = document.getElementById(\"domTitleIDget\")\n",
       "<!-- outputs h1 innerHTML from h1 tag -->\n",
       "#console.log(\"Example #2, show innerHTML\")\n",
       "#console.log(titleElement.innerHTML)\n",
       "</script>\n"
      ],
      "text/plain": [
       "<IPython.core.display.HTML object>"
      ]
     },
     "metadata": {},
     "output_type": "display_data"
    }
   ],
   "source": [
    "%%html\n",
    "<!-- the ID must be specified within the element -->\n",
    "<h1 id=\"domTitleIDget\">My Title</h1>\n",
    "\n",
    "<!-- javascript goes here -->\n",
    "<script>\n",
    "var titleElement = document.getElementById(\"domTitleIDget\")\n",
    "<!-- outputs h1 innerHTML from h1 tag -->\n",
    "console.log(\"Example #2, show innerHTML\")\n",
    "console.log(titleElement.innerHTML)\n",
    "</script>"
   ]
  },
  {
   "cell_type": "markdown",
   "metadata": {},
   "source": [
    "# Setting the data within the HTML Element\n",
    "- The innerHTML data in this \"object\" can be set like a variable\n",
    "  - Change the value of the innerHTML using the \"=\" (assignment) operator"
   ]
  },
  {
   "cell_type": "code",
   "execution_count": null,
   "metadata": {},
   "outputs": [],
   "source": [
    "%%html\n",
    "<!-- the ID must be specified on the element -->\n",
    "<h1 id=\"domTitleIDset\">My Title</h1>\n",
    "\n",
    "<!-- javascript goes here -->\n",
    "<script>\n",
    "var titleElement = document.getElementById(\"domTitleIDset\")\n",
    "titleElement.innerHTML = \"Set and Update My Title\"\n",
    "<!-- outputs h1 innerHTML after h1 tag has been updated -->\n",
    "console.log(\"Example #3, update innerHTML\")\n",
    "console.log(titleElement.innerHTML)\n",
    "</script>"
   ]
  },
  {
   "cell_type": "markdown",
   "metadata": {},
   "source": [
    "# Creating elements\n",
    "- Create a new element with the document.createElement function -> takes in the type of element\n",
    "- Set properties in the element just like the \"h1\" example"
   ]
  },
  {
   "cell_type": "code",
   "execution_count": 56,
   "metadata": {},
   "outputs": [
    {
     "data": {
      "text/html": [
       "<!-- the ID must be specified on the element -->\n",
       "<div id=\"divContainerID\">\n",
       "    <h1 id=\"h1ElementID\">My Title</h1>\n",
       "</div>\n",
       "\n",
       "<!-- javascript goes here -->\n",
       "<script>\n",
       "   // creates a new element\n",
       "   var pElement = document.createElement(\"p\")\n",
       "   pElement.innerHTML = \"Starting a paragraph of text.\"\n",
       "   \n",
       "   // outputs p tag after it has been created\n",
       "   console.log(\"Example #4, create a p tag within JS\")\n",
       "   console.log(pElement)\n",
       "</script>\n"
      ],
      "text/plain": [
       "<IPython.core.display.HTML object>"
      ]
     },
     "metadata": {},
     "output_type": "display_data"
    }
   ],
   "source": [
    "%%html\n",
    "<!-- the ID must be specified on the element -->\n",
    "<div id=\"divContainerID\">\n",
    "    <h1 id=\"h1ElementID\">My Title</h1>\n",
    "</div>\n",
    "\n",
    "<!-- javascript goes here -->\n",
    "<script>\n",
    "   // creates a new element\n",
    "   var pElement = document.createElement(\"p\")\n",
    "   pElement.innerHTML = \"Starting a paragraph of text.\"\n",
    "   \n",
    "   // outputs p tag after it has been created\n",
    "   console.log(\"Example #4, create a p tag within JS\")\n",
    "   console.log(pElement)\n",
    "</script>"
   ]
  },
  {
   "cell_type": "markdown",
   "metadata": {},
   "source": [
    "# Issue! How to Create element that appears in HTML?\n",
    "- Here is a visualization of what is happening => the \"p\" is not placed inside the HRML page!\n",
    "![visual on p tag floating]({{ site.baseurl }}/images/dom-visual-1.png)\n"
   ]
  },
  {
   "cell_type": "markdown",
   "metadata": {},
   "source": [
    "# Solution\n",
    "- Correct by placeing the element somewhere in the page\n",
    "- For example, we could add the element within the div\n",
    "   - For this, use the appendChild function on the div object (the parameter would be the p element we created)\n",
    "   - Remember, use the getELementById to get the object for something in the html (the div!)\n",
    "- Updated Diagram\n",
    "![visual on p tag in div]({{ site.baseurl }}/images/dom-visual-2.png)"
   ]
  },
  {
   "cell_type": "code",
   "execution_count": null,
   "metadata": {},
   "outputs": [],
   "source": [
    "%%html\n",
    "<!-- the ID must be specified on the element -->\n",
    "<div id=\"divContainerIDset\">\n",
    "    <h1 id=\"h1ElementIDset\">My Title</h1>\n",
    "</div>\n",
    "\n",
    "<!-- javascript goes here -->\n",
    "<script>\n",
    "   // creates a new element\n",
    "   var pElement = document.createElement(\"p\")\n",
    "   pElement.innerHTML = \"Starting a paragraph of text.\"\n",
    "   \n",
    "   // outputs p tag after it has been created\n",
    "   console.log(\"Example #5, add p tag to HTML\")\n",
    "   console.log(pElement)\n",
    "   \n",
    "   // place the p element inside the HTML page\n",
    "   var div = document.getElementById(\"divContainerIDset\")\n",
    "   div.appendChild(pElement)\n",
    "</script>"
   ]
  },
  {
   "cell_type": "markdown",
   "metadata": {},
   "source": [
    "# Functions in JavaScript, using with DOM\n",
    "- Functions allow you to \"do something\"\n",
    "  - ex. \"eat food\" in a Snake Game\n",
    "- Functions were used in previous examples\n",
    "  - console.log = \"print something\"\n",
    "  - document.getElementById = \"find an element with id\"\n",
    "- Functions take in parameters, what to do (inside the parenthesis)\n",
    "  - the parameter tells console.log what to print\n",
    "  - the parameter in document.getElementById tells the id of the element\n",
    "- Functions can be used with DOM as well, thes will be shown below"
   ]
  },
  {
   "cell_type": "markdown",
   "metadata": {},
   "source": [
    "# Creeating functions\n",
    "- document functions functions were used to create a lot of functionality, but how can a developer create their own?\n",
    "- function are useful to avoid writing the same code over and over again\n",
    "- function can contain parameters for input (they effectively become variables)\n",
    "- function can contain a return, the are the \"output\" of the function"
   ]
  },
  {
   "cell_type": "code",
   "execution_count": 58,
   "metadata": {},
   "outputs": [
    {
     "data": {
      "text/html": [
       "<!-- the ID must be specified on the element -->\n",
       "<div id=\"divContainerIDfunction\">\n",
       "    <h1 id=\"h1ElementIDfunction\">My Title</h1>\n",
       "</div>\n",
       "\n",
       "<!-- javascript goew here -->\n",
       "<script>\n",
       "    // define a function => takes parameter text, returns a new p tab\n",
       "    function createPTag(text) {\n",
       "        // creates a new element\n",
       "        var pElement = document.createElement(\"p\")\n",
       "\n",
       "        // using the parameter like a variable\n",
       "        pElement.innerHTML = text\n",
       "        \n",
       "        // outputs p tag after it has been created\n",
       "        console.log(\"Example #6, add p tag using a function\")\n",
       "        console.log(pElement)\n",
       "\n",
       "        return pElement;\n",
       "    }\n",
       "\n",
       "    // using a function to create p tag\n",
       "    var pTag = createPTag(\"Starting a paragraph with cooler text than before.\")\n",
       "\n",
       "    // place the p element in the webpage\n",
       "    var div = document.getElementById(\"divContainerIDfunction\")\n",
       "    div.appendChild(pTag)\n",
       "</script>\n"
      ],
      "text/plain": [
       "<IPython.core.display.HTML object>"
      ]
     },
     "metadata": {},
     "output_type": "display_data"
    }
   ],
   "source": [
    "%%html\n",
    "<!-- the ID must be specified on the element -->\n",
    "<div id=\"divContainerIDfunction\">\n",
    "    <h1 id=\"h1ElementIDfunction\">My Title</h1>\n",
    "</div>\n",
    "\n",
    "<!-- javascript goew here -->\n",
    "<script>\n",
    "    // define a function => takes parameter text, returns a new p tab\n",
    "    function createPTag(text) {\n",
    "        // creates a new element\n",
    "        var pElement = document.createElement(\"p\")\n",
    "\n",
    "        // using the parameter like a variable\n",
    "        pElement.innerHTML = text\n",
    "        \n",
    "        // outputs p tag after it has been created\n",
    "        console.log(\"Example #6, add p tag using a function\")\n",
    "        console.log(pElement)\n",
    "\n",
    "        return pElement;\n",
    "    }\n",
    "\n",
    "    // using a function to create p tag\n",
    "    var pTag = createPTag(\"Starting a paragraph with cooler text than before.\")\n",
    "\n",
    "    // place the p element in the webpage\n",
    "    var div = document.getElementById(\"divContainerIDfunction\")\n",
    "    div.appendChild(pTag)\n",
    "</script>"
   ]
  },
  {
   "cell_type": "markdown",
   "metadata": {},
   "source": [
    "# OnClick Event\n",
    "- Run a function when an event occurs\n",
    "   - In this case, the p tag is created when the button is clicked"
   ]
  },
  {
   "cell_type": "code",
   "execution_count": 48,
   "metadata": {},
   "outputs": [
    {
     "data": {
      "text/html": [
       "<!-- the ID must be specified on the elements -->\n",
       "<button id=\"buttonID\">Click here!</button>\n",
       "\n",
       "<div id=\"divContainerIDbutton\">\n",
       "    <h1 id=\"h1ElementIDbutton\">My Title</h1>\n",
       "</div>\n",
       "\n",
       "<!-- our javascript goe here -->\n",
       "<script>\n",
       "    // define a function => takes parameter text, returns a new p tab\n",
       "    function createPTag(text) {\n",
       "        // creates a new element\n",
       "        var pElement = document.createElement(\"p\")\n",
       "\n",
       "        // using the parameter like a variable\n",
       "        pElement.innerHTML = text\n",
       "        \n",
       "        // outputs p tag after it has been created\n",
       "        console.log(\"Example #7.1, add p tag using a function\")\n",
       "        console.log(pElement)\n",
       "\n",
       "        return pElement;\n",
       "    }\n",
       "\n",
       "    // create a function that sets specific text and adds to div\n",
       "    function addPTagOnButton() {\n",
       "        // using our new function\n",
       "        var pTag = createPTag(\"Starting a paragraph with text created on button press.\")\n",
       "\n",
       "        // place the p element in the webpage\n",
       "        var div = document.getElementById(\"divContainerIDbutton\")\n",
       "\n",
       "        // add p tag to the div\n",
       "        div.appendChild(pTag)\n",
       "        \n",
       "        // outputs p tag after it has been created\n",
       "        console.log(\"Example #7.2, update container adding a 'p' tag\")\n",
       "        console.log(div)\n",
       "    }\n",
       "\n",
       "    // add the P tag when our button is clicked\n",
       "    var myButton = document.getElementById(\"buttonID\")\n",
       "    myButton.onclick = addPTagOnButton\n",
       "    \n",
       "</script>\n"
      ],
      "text/plain": [
       "<IPython.core.display.HTML object>"
      ]
     },
     "metadata": {},
     "output_type": "display_data"
    }
   ],
   "source": [
    "%%html\n",
    "<!-- the ID must be specified on the elements -->\n",
    "<button id=\"buttonID\">Click here!</button>\n",
    "\n",
    "<div id=\"divContainerIDbutton\">\n",
    "    <h1 id=\"h1ElementIDbutton\">My Title</h1>\n",
    "</div>\n",
    "\n",
    "<!-- our javascript goe here -->\n",
    "<script>\n",
    "    // define a function => takes parameter text, returns a new p tab\n",
    "    function createPTag(text) {\n",
    "        // creates a new element\n",
    "        var pElement = document.createElement(\"p\")\n",
    "\n",
    "        // using the parameter like a variable\n",
    "        pElement.innerHTML = text\n",
    "        \n",
    "        // outputs p tag after it has been created\n",
    "        console.log(\"Example #7.1, add p tag using a function\")\n",
    "        console.log(pElement)\n",
    "\n",
    "        return pElement;\n",
    "    }\n",
    "\n",
    "    // create a function that sets specific text and adds to div\n",
    "    function addPTagOnButton() {\n",
    "        // using our new function\n",
    "        var pTag = createPTag(\"Starting a paragraph with text created on button press.\")\n",
    "\n",
    "        // place the p element in the webpage\n",
    "        var div = document.getElementById(\"divContainerIDbutton\")\n",
    "\n",
    "        // add p tag to the div\n",
    "        div.appendChild(pTag)\n",
    "        \n",
    "        // outputs p tag after it has been created\n",
    "        console.log(\"Example #7.2, update container adding a 'p' tag\")\n",
    "        console.log(div)\n",
    "    }\n",
    "\n",
    "    // add the P tag when our button is clicked\n",
    "    var myButton = document.getElementById(\"buttonID\")\n",
    "    myButton.onclick = addPTagOnButton\n",
    "    \n",
    "</script>"
   ]
  },
  {
   "cell_type": "markdown",
   "metadata": {},
   "source": [
    "# Hacks\n",
    "- Copy your HTML code from the HTML hacks. Write a Javascript snippet to switch the links of the two a tags when a button is pressed. Once they are switched, change the inner HTML of the top p tag to the word \"switched!\""
   ]
  },
  {
   "cell_type": "code",
   "execution_count": 5,
   "metadata": {
    "vscode": {
     "languageId": "html"
    }
   },
   "outputs": [
    {
     "data": {
      "text/html": [
       "<!-- html code goes here (make sure to run) -->\n",
       "\n",
       "\n",
       "<h1 style= \"color: rgb(228, 41, 228)\">  Hack for HTML</h1>\n",
       "\n",
       "<div>\n",
       "<p title=\"Lung Cancer \"> <h4>Lung Cancer</h4></p>\n",
       "\n",
       "  \n",
       "</div>\n",
       "<button type=\"button\" title=\"The cancer vaccine OSE2101 has shown promising results in a phase 3 trial for patients with HLA-A2+ advanced NSCLC and secondary resistance to ICIs.\" onclick=\"alert('The cancer vaccine OSE2101 has shown promising results in a phase 3 trial for patients with HLA-A2+ advanced NSCLC and secondary resistance to ICIs.')\">\n",
       "  What's the latest in the world of cancer research?\n",
       "</button>\n",
       "\n",
       "<button type=\"button\"> \n",
       "  <a href = \"https://www.cancertherapyadvisor.com/home/cancer-topics/lung-cancer/ose2101-vaccine-outperforms-standard-care-in-certain-patients-with-nsclc/\" > Link to cancer news article HERE </a>\n",
       "</button> \n",
       "\n",
       "<p title=\"How does Cancer Develop?\"> <h4>How does Cancer Develop?</h4></p>\n",
       "\n",
       "<div>\n",
       "<button type=\"button\">\n",
       "  <a href=\"https://www.khanacademy.org/science/ap-biology/cell-communication-and-cell-cycle/regulation-of-cell-cycle/a/cancer\" title=\"Cell cycle+Cancer\" style=\"color: rgb(32, 32, 91); border: none blue; padding: 5px 64px; background-color: rgba(131, 184, 209, 0.708)\">\n",
       "    Click This helpful Link To learn how Cancer develops!\n",
       "  </a>\n",
       "</button>\n",
       "</div>\n",
       "<!--this is a button which will be made to be diplayed and to be clicked on-->\n",
       "<p style=\"color: darkcyan\"> Prevention </p>\n",
       "<button id=\"Onclick\" onclick=\"addPTagOnButton()\">How can you help to prevent lung cancer (click me)?</button>\n",
       "    <div id=\"OnclickContainer\"></div>\n",
       "\n",
       "    <script>\n",
       "      // Function to create a new paragraph element which will be used every single time the button is clicked because the new message should require a new paragraph!\n",
       "      function createPTag(text) {\n",
       "          // Create a new <p> element using the document object\n",
       "          var element = document.createElement(\"p\");\n",
       "          // Set the innerHTML of the new <p> element to the provided text\n",
       "          element.innerHTML = text;\n",
       "          // Return the created <p> element as the result of the function\n",
       "          return element;\n",
       "      }\n",
       "\n",
       "      // Function to add a paragraph to the container when the button is clicked\n",
       "      function addPTagOnButton() {\n",
       "          // Create a new <p> element with the text \"QUIT SMOKING!\"\n",
       "          var pTag = createPTag(\"QUIT SMOKING!\");\n",
       "          // Get a reference to the container div with the id \"OnclickContainer\"\n",
       "          var div = document.getElementById(\"OnclickContainer\");\n",
       "          // Append the newly created <p> element to the container\n",
       "          div.appendChild(pTag);\n",
       "      }\n",
       "  </script>\n",
       "\n",
       "  <!-- JavaScript function to swap links and text when a button is clicked -->\n",
       "  <script>\n",
       "      function swapLinksAndText() {\n",
       "          // Get the two <a>(links) elements by their indexes (0 and 1)\n",
       "          var links = document.querySelectorAll('a');\n",
       "          // Swap the href attributes of the two <a> elements so that the links are swapped\n",
       "          var tempHref = links[0].href;\n",
       "          links[0].href = links[1].href;\n",
       "          links[1].href = tempHref;\n",
       "\n",
       "          // Get the top <p> element within a <div>\n",
       "          var topParagraph = document.querySelector('div > p');\n",
       "\n",
       "          // Change the innerHTML of the top <p> element to \"switched!\"\n",
       "          topParagraph.innerHTML = 'switched!';\n",
       "      }\n",
       "  </script>\n",
       "\n",
       "  <!-- Button that triggers the swapLinksAndText function when clicked -->\n",
       "  <button type=\"button\" onclick=\"swapLinksAndText()\">Swap Links</button>\n",
       "\n",
       "  <!-- Container div where paragraphs will be added when the button is clicked -->\n",
       "  <div id=\"OnclickContainer\">\n",
       "      <!-- Existing content or newly added <p> elements will appear here -->\n",
       "  </div>\n"
      ],
      "text/plain": [
       "<IPython.core.display.HTML object>"
      ]
     },
     "metadata": {},
     "output_type": "display_data"
    }
   ],
   "source": [
    "%%html\n",
    "<!-- html code goes here (make sure to run) -->\n",
    "\n",
    "\n",
    "<h1 style= \"color: rgb(228, 41, 228)\">  Hack for HTML</h1>\n",
    "\n",
    "<div>\n",
    "<p title=\"Lung Cancer \"> <h4>Lung Cancer</h4></p>\n",
    "\n",
    "  \n",
    "</div>\n",
    "<button type=\"button\" title=\"The cancer vaccine OSE2101 has shown promising results in a phase 3 trial for patients with HLA-A2+ advanced NSCLC and secondary resistance to ICIs.\" onclick=\"alert('The cancer vaccine OSE2101 has shown promising results in a phase 3 trial for patients with HLA-A2+ advanced NSCLC and secondary resistance to ICIs.')\">\n",
    "  What's the latest in the world of cancer research?\n",
    "</button>\n",
    "\n",
    "<button type=\"button\"> \n",
    "  <a href = \"https://www.cancertherapyadvisor.com/home/cancer-topics/lung-cancer/ose2101-vaccine-outperforms-standard-care-in-certain-patients-with-nsclc/\" > Link to cancer news article HERE </a>\n",
    "</button> \n",
    "\n",
    "<p title=\"How does Cancer Develop?\"> <h4>How does Cancer Develop?</h4></p>\n",
    "\n",
    "<div>\n",
    "<button type=\"button\">\n",
    "  <a href=\"https://www.khanacademy.org/science/ap-biology/cell-communication-and-cell-cycle/regulation-of-cell-cycle/a/cancer\" title=\"Cell cycle+Cancer\" style=\"color: rgb(32, 32, 91); border: none blue; padding: 5px 64px; background-color: rgba(131, 184, 209, 0.708)\">\n",
    "    Click This helpful Link To learn how Cancer develops!\n",
    "  </a>\n",
    "</button>\n",
    "</div>\n",
    "<!--this is a button which will be made to be diplayed and to be clicked on-->\n",
    "<p style=\"color: darkcyan\"> Prevention </p>\n",
    "<button id=\"Onclick\" onclick=\"addPTagOnButton()\">How can you help to prevent lung cancer (click me)?</button>\n",
    "    <div id=\"OnclickContainer\"></div>\n",
    "\n",
    "    <script>\n",
    "      // Function to create a new paragraph element which will be used every single time the button is clicked because the new message should require a new paragraph!\n",
    "      function createPTag(text) {\n",
    "          // Create a new <p> element using the document object\n",
    "          var element = document.createElement(\"p\");\n",
    "          // Set the innerHTML of the new <p> element to the provided text\n",
    "          element.innerHTML = text;\n",
    "          // Return the created <p> element as the result of the function\n",
    "          return element;\n",
    "      }\n",
    "\n",
    "      // Function to add a paragraph to the container when the button is clicked\n",
    "      function addPTagOnButton() {\n",
    "          // Create a new <p> element with the text \"QUIT SMOKING!\"\n",
    "          var pTag = createPTag(\"QUIT SMOKING!\");\n",
    "          // Get a reference to the container div with the id \"OnclickContainer\"\n",
    "          var div = document.getElementById(\"OnclickContainer\");\n",
    "          // Append the newly created <p> element to the container\n",
    "          div.appendChild(pTag);\n",
    "      }\n",
    "  </script>\n",
    "\n",
    "  <!-- JavaScript function to swap links and text when a button is clicked -->\n",
    "  <script>\n",
    "      function swapLinksAndText() {\n",
    "          // Get the two <a>(links) elements by their indexes (0 and 1)\n",
    "          var links = document.querySelectorAll('a');\n",
    "          // Swap the href attributes of the two <a> elements so that the links are swapped\n",
    "          var tempHref = links[0].href;\n",
    "          links[0].href = links[1].href;\n",
    "          links[1].href = tempHref;\n",
    "\n",
    "          // Get the top <p> element within a <div>\n",
    "          var topParagraph = document.querySelector('div > p');\n",
    "\n",
    "          // Change the innerHTML of the top <p> element to \"switched!\"\n",
    "          topParagraph.innerHTML = 'switched!';\n",
    "      }\n",
    "  </script>\n",
    "\n",
    "  <!-- Button that triggers the swapLinksAndText function when clicked -->\n",
    "  <button type=\"button\" onclick=\"swapLinksAndText()\">Swap Links</button>\n",
    "\n",
    "  <!-- Container div where paragraphs will be added when the button is clicked -->\n",
    "  <div id=\"OnclickContainer\">\n",
    "      <!-- Existing content or newly added <p> elements will appear here -->\n",
    "  </div>"
   ]
  }
 ],
 "metadata": {
  "kernelspec": {
   "display_name": "Python 3",
   "language": "python",
   "name": "python3"
  },
  "language_info": {
   "codemirror_mode": {
    "name": "ipython",
    "version": 3
   },
   "file_extension": ".py",
   "mimetype": "text/x-python",
   "name": "python",
   "nbconvert_exporter": "python",
   "pygments_lexer": "ipython3",
   "version": "3.10.12"
  },
  "orig_nbformat": 4
 },
 "nbformat": 4,
 "nbformat_minor": 2
}
