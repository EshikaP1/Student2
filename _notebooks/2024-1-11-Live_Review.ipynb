{
 "cells": [
  {
   "cell_type": "markdown",
   "metadata": {},
   "source": [
    "\n",
    "https://github.com/terrenjpeterson/caloriecounter/blob/master/src/data/foods.json "
   ]
  },
  {
   "cell_type": "markdown",
   "metadata": {},
   "source": [
    "CSP NOTES Student Teachings\n",
    "\n",
    "-routing and computing\n",
    "\t-one path network is very slow--> Not Fault(one line breaks, the system still works) torrent\n",
    "\t\t-like a serries circuit. one breaks they all break\n",
    "-Fault Tolerance: uses redunancy. wach divice has multiple of paths. it is none the less a fast network\n",
    "-fault tolerance increases the productivity of how you can get a connection. --> more redundancies allows for there to be multiple paths, including the fastest ones. \n",
    "\n",
    "-sequential commputing: executing programs one at a time\n",
    "-Parallel commuting uses multiple prcoessors or cores in oder to execute a single program--> executes faster + can solve more problems\n",
    "- distributed computing: to use and connect mutiple computers in order to to do a single program"
   ]
  },
  {
   "cell_type": "markdown",
   "metadata": {},
   "source": [
    "citizen Science: the collection and analysis of data relating to the natural world by members of the general public, typically as part of a collaborative project with professional scientists.\n"
   ]
  }
 ],
 "metadata": {
  "language_info": {
   "name": "python"
  }
 },
 "nbformat": 4,
 "nbformat_minor": 2
}
