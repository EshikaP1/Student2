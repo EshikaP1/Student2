{
 "cells": [
  {
   "cell_type": "markdown",
   "metadata": {},
   "source": [
    "---\n",
    "toc: true\n",
    "comments: false\n",
    "layout: post\n",
    "title: Planning out week 5\n",
    "description: Let's see what goes on this week!\n",
    "type: plans\n",
    "courses: { compsci: {week: 3}  }\n",
    "---\n",
    "\n",
    "#\n",
    "- work on completing all of the hacks with your team \n",
    "Monday, Tuesday, Wednesday: Work on hacks\n",
    "Thursday: work with team\n",
    "Firday: present to Mr.Lopez"
   ]
  }
 ],
 "metadata": {
  "language_info": {
   "name": "python"
  }
 },
 "nbformat": 4,
 "nbformat_minor": 2
}
