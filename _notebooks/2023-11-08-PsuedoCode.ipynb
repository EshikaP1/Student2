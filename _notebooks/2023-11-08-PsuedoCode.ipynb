{
 "cells": [
  {
   "cell_type": "markdown",
   "metadata": {},
   "source": [
    "---\n",
    "toc: true\n",
    "comments: true\n",
    "layout: post\n",
    "title: Psuedo Code\n",
    "description: Psuedo Code \n",
    "type: hacks\n",
    "courses: { compsci: {week: 12}  }\n",
    "---"
   ]
  },
  {
   "cell_type": "markdown",
   "metadata": {},
   "source": [
    "Pseudo Code vs. Python: A Comparison with Examples\n",
    "Pseudo code and Python are both tools used in the field of programming to help design and implement algorithms. Pseudo code is a high-level, human-readable representation of an algorithm, while Python is a popular programming language used to write actual code. In this page, we will compare pseudo code and Python with examples to illustrate their differences and similarities.\n",
    "\n",
    "Pseudo Code\n",
    "Pseudo code is a way to represent algorithms in a human-readable format, without getting into the specifics of a programming language. It is often used during the planning and design phase of a project. Pseudo code is not executed by a computer; it's a description of the logic that can be easily understood by both programmers and non-programmers.\n",
    "\n",
    "Example: Pseudo Code for Finding the Maximum Number\n",
    "BEGIN\n",
    "    Initialize max_num to -∞ (negative infinity)\n",
    "    FOR each number in the list:\n",
    "        IF the current number is greater than max_num:\n",
    "            Set max_num to the current number\n",
    "    END IF\n",
    "END\n",
    "In this pseudo code example, we describe the logic for finding the maximum number in a list without using any specific programming language.\n",
    "\n",
    "Python\n",
    "Python is a high-level, general-purpose programming language known for its readability and simplicity. It allows you to write actual executable code to implement algorithms and solve problems. Python code is written using specific syntax and can be executed by a computer.\n",
    "\n",
    "Example: Python Code for Finding the Maximum Number\n",
    "python"
   ]
  },
  {
   "cell_type": "code",
   "execution_count": null,
   "metadata": {},
   "outputs": [],
   "source": [
    "def find_max_number(numbers):\n",
    "    max_num = float('-inf')  # Initialize max_num to negative infinity\n",
    "    for number in numbers:\n",
    "        if number > max_num:\n",
    "            max_num = number\n",
    "    return max_num"
   ]
  },
  {
   "cell_type": "markdown",
   "metadata": {},
   "source": [
    "# Example usage\n",
    "number_list = [5, 12, 9, 42, 3, 7]\n",
    "result = find_max_number(number_list)\n",
    "print(\"The maximum number is:\", result)\n",
    "In this Python code example, we implement the same logic for finding the maximum number in a list, and the code is fully executable.\n",
    "\n",
    "Key Differences\n",
    "Execution: Pseudo code is not executed by a computer, while Python code is executable.\n",
    "\n",
    "Readability: Pseudo code is often more human-readable as it focuses on the algorithm's logic, while Python code includes specific syntax and is more machine-readable.\n",
    "\n",
    "Language Independence: Pseudo code is language-independent and can be used as a blueprint for writing code in various programming languages. Python is a specific programming language with its own syntax.\n",
    "\n",
    "Development Stage: Pseudo code is used in the planning and design stage of development, while Python code is used in the implementation and execution stage.\n",
    "\n",
    "Conclusion\n",
    "Pseudo code and Python serve different purposes in the software development process. Pseudo code helps in designing algorithms and planning while Python is used for implementing and executing those algorithms. Both have their unique advantages, and often, pseudo code is a helpful first step in the development process before transitioning to writing Python or any other programming language code."
   ]
  }
 ],
 "metadata": {
  "language_info": {
   "name": "python"
  }
 },
 "nbformat": 4,
 "nbformat_minor": 2
}
