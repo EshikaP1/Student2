{
 "cells": [
  {
   "cell_type": "code",
   "execution_count": 146,
   "metadata": {},
   "outputs": [
    {
     "name": "stderr",
     "output_type": "stream",
     "text": [
      "[nltk_data] Downloading package words to /home/eneter/nltk_data...\n",
      "[nltk_data]   Package words is already up-to-date!\n"
     ]
    },
    {
     "name": "stdout",
     "output_type": "stream",
     "text": [
      "👍 Python is awesome! 😀\n"
     ]
    },
    {
     "name": "stdin",
     "output_type": "stream",
     "text": [
      "input a character that is lowercase a\n"
     ]
    },
    {
     "ename": "AttributeError",
     "evalue": "'str' object has no attribute 'append'",
     "output_type": "error",
     "traceback": [
      "\u001b[0;31m---------------------------------------------------------------------------\u001b[0m",
      "\u001b[0;31mAttributeError\u001b[0m                            Traceback (most recent call last)",
      "\u001b[0;32m/tmp/ipykernel_16443/1755357628.py\u001b[0m in \u001b[0;36m<module>\u001b[0;34m\u001b[0m\n\u001b[1;32m     21\u001b[0m \u001b[0;34m\u001b[0m\u001b[0m\n\u001b[1;32m     22\u001b[0m \u001b[0;32mfor\u001b[0m \u001b[0mx\u001b[0m \u001b[0;32min\u001b[0m \u001b[0mrandom_word\u001b[0m\u001b[0;34m:\u001b[0m\u001b[0;34m\u001b[0m\u001b[0;34m\u001b[0m\u001b[0m\n\u001b[0;32m---> 23\u001b[0;31m     \u001b[0mWord_list\u001b[0m\u001b[0;34m=\u001b[0m \u001b[0mrandom_word\u001b[0m\u001b[0;34m.\u001b[0m\u001b[0mappend\u001b[0m\u001b[0;34m(\u001b[0m\u001b[0mx\u001b[0m\u001b[0;34m)\u001b[0m\u001b[0;34m\u001b[0m\u001b[0;34m\u001b[0m\u001b[0m\n\u001b[0m\u001b[1;32m     24\u001b[0m \u001b[0;34m\u001b[0m\u001b[0m\n\u001b[1;32m     25\u001b[0m \u001b[0mListNumb\u001b[0m\u001b[0;34m=\u001b[0m\u001b[0;36m0\u001b[0m\u001b[0;34m\u001b[0m\u001b[0;34m\u001b[0m\u001b[0m\n",
      "\u001b[0;31mAttributeError\u001b[0m: 'str' object has no attribute 'append'"
     ]
    }
   ],
   "source": [
    "from emoji import emojize \n",
    "print(emojize(\":thumbs_up: Python is awesome! :grinning_face:\")) \n",
    "\n",
    "# nltk is a package that dowloads a lot of English words. It allows you to break many words into tokens or individual words.\n",
    "# importing nltk allows you to use the python libraries abilities to use for your own purposes.\n",
    "import nltk\n",
    "# SUed to download a specific dataset of words from the natural language toolkit.\n",
    "nltk.download('words')\n",
    "\n",
    "from nltk.corpus import words\n",
    "import random\n",
    "\n",
    "# Get the list of English words; Makign a list is like making a word bank where you can pull on word.\n",
    "english_words = words.words()\n",
    "\n",
    "# Select a random word from the list; The fucntion Random.choice lets you do this\n",
    "random_word = random.choice(english_words)\n",
    "\n",
    "Character= input(\"input a character that is lowercase\")\n",
    "\n",
    "\n",
    "for x in random_word:\n",
    "    Word_list= random_word.append(x)\n",
    "\n",
    "ListNumb=0\n",
    "LenList = len(Word_list)\n",
    "Printing_Character= '#'\n",
    "Guessing_List= LenList * Printing_Character\n",
    "\n",
    "while LenList == LenList:\n",
    "    for Character in Word_list(ListNumb):\n",
    "        v = Word_list(ListNumb)\n",
    "        ListNumb = ListNumb+1\n",
    "        Guessing_List[ListNumb]= v\n",
    "\n",
    "print(Guessing_List)   "
   ]
  },
  {
   "cell_type": "code",
   "execution_count": 149,
   "metadata": {},
   "outputs": [
    {
     "name": "stderr",
     "output_type": "stream",
     "text": [
      "[nltk_data] Downloading package words to /home/eneter/nltk_data...\n",
      "[nltk_data]   Package words is already up-to-date!\n"
     ]
    },
    {
     "name": "stdin",
     "output_type": "stream",
     "text": [
      "input a character that is lowercase a\n"
     ]
    },
    {
     "ename": "IndexError",
     "evalue": "list index out of range",
     "output_type": "error",
     "traceback": [
      "\u001b[0;31m---------------------------------------------------------------------------\u001b[0m",
      "\u001b[0;31mIndexError\u001b[0m                                Traceback (most recent call last)",
      "\u001b[0;32m/tmp/ipykernel_16443/2077171780.py\u001b[0m in \u001b[0;36m<module>\u001b[0;34m\u001b[0m\n\u001b[1;32m     27\u001b[0m \u001b[0;32mwhile\u001b[0m \u001b[0mLenList\u001b[0m \u001b[0;34m==\u001b[0m \u001b[0mLenList\u001b[0m\u001b[0;34m:\u001b[0m\u001b[0;34m\u001b[0m\u001b[0;34m\u001b[0m\u001b[0m\n\u001b[1;32m     28\u001b[0m     \u001b[0;32mwhile\u001b[0m \u001b[0mLenList_two\u001b[0m \u001b[0;34m<=\u001b[0m \u001b[0;36m26\u001b[0m\u001b[0;34m:\u001b[0m\u001b[0;34m\u001b[0m\u001b[0;34m\u001b[0m\u001b[0m\n\u001b[0;32m---> 29\u001b[0;31m         \u001b[0;32mif\u001b[0m \u001b[0mCharacter\u001b[0m\u001b[0;34m==\u001b[0m \u001b[0mWord_list\u001b[0m\u001b[0;34m[\u001b[0m\u001b[0mListNumb\u001b[0m\u001b[0;34m]\u001b[0m\u001b[0;34m:\u001b[0m\u001b[0;34m\u001b[0m\u001b[0;34m\u001b[0m\u001b[0m\n\u001b[0m\u001b[1;32m     30\u001b[0m             \u001b[0mv\u001b[0m \u001b[0;34m=\u001b[0m \u001b[0mWord_list\u001b[0m\u001b[0;34m[\u001b[0m\u001b[0mListNumb\u001b[0m\u001b[0;34m]\u001b[0m\u001b[0;34m\u001b[0m\u001b[0;34m\u001b[0m\u001b[0m\n\u001b[1;32m     31\u001b[0m             \u001b[0mListNumb\u001b[0m \u001b[0;34m=\u001b[0m \u001b[0mListNumb\u001b[0m\u001b[0;34m+\u001b[0m\u001b[0;36m1\u001b[0m\u001b[0;34m\u001b[0m\u001b[0;34m\u001b[0m\u001b[0m\n",
      "\u001b[0;31mIndexError\u001b[0m: list index out of range"
     ]
    }
   ],
   "source": [
    "\n",
    "# nltk is a package that dowloads a lot of English words. It allows you to break many words into tokens or individual words.\n",
    "# importing nltk allows you to use the python libraries abilities to use for your own purposes.\n",
    "import nltk\n",
    "# SUed to download a specific dataset of words from the natural language toolkit.\n",
    "nltk.download('words')\n",
    "\n",
    "from nltk.corpus import words\n",
    "import random\n",
    "\n",
    "# Get the list of English words; Makign a list is like making a word bank where you can pull on word.\n",
    "english_words = words.words()\n",
    "\n",
    "# Select a random word from the list; The fucntion Random.choice lets you do this\n",
    "random_word = random.choice(english_words)\n",
    "\n",
    "Character= input(\"input a character that is lowercase\")\n",
    "\n",
    "Word_list= list(random_word)\n",
    "ListNumb=0\n",
    "LenList = len(Word_list)\n",
    "Printing_Character= '#'\n",
    "Guessing_List= LenList * Printing_Character\n",
    "Guessing_List = list(Guessing_List)\n",
    "LenList_two = LenList\n",
    "x=Word_list[-1]\n",
    "y='#'\n",
    "while LenList == LenList:\n",
    "    while LenList_two <= 26:\n",
    "        if Character== Word_list[ListNumb]:\n",
    "            v = Word_list[ListNumb]\n",
    "            ListNumb = ListNumb+1\n",
    "            Guessing_List[ListNumb]= v\n",
    "            LenList_two = LenList_two-1\n",
    "            Character= input(\"input a character that is lowercase\")\n",
    "        else:\n",
    "            ListNumb = ListNumb+1\n",
    "            LenList_two = LenList_two-1\n",
    "            if x==y:\n",
    "                break\n",
    "            else:\n",
    "                pass\n",
    "            \n",
    "\n",
    "print(Guessing_List)   "
   ]
  },
  {
   "cell_type": "code",
   "execution_count": 153,
   "metadata": {},
   "outputs": [
    {
     "name": "stderr",
     "output_type": "stream",
     "text": [
      "[nltk_data] Downloading package words to /home/eneter/nltk_data...\n",
      "[nltk_data]   Package words is already up-to-date!\n"
     ]
    },
    {
     "name": "stdin",
     "output_type": "stream",
     "text": [
      "input a character that is lowercase i\n",
      "input a character that is lowercase e\n",
      "input a character that is lowercase p\n"
     ]
    },
    {
     "name": "stdout",
     "output_type": "stream",
     "text": [
      "['#', '#', '#', '#', 'i', '#', '#', '#', 'e', '#', '#']\n",
      "calisthenic\n"
     ]
    }
   ],
   "source": [
    "# nltk is a package that dowloads a lot of English words. It allows you to break many words into tokens or individual words.\n",
    "# importing nltk allows you to use the python libraries abilities to use for your own purposes.\n",
    "import nltk\n",
    "# SUed to download a specific dataset of words from the natural language toolkit.\n",
    "nltk.download('words')\n",
    "\n",
    "from nltk.corpus import words\n",
    "import random\n",
    "\n",
    "# Get the list of English words; Makign a list is like making a word bank where you can pull on word.\n",
    "english_words = words.words()\n",
    "\n",
    "# Select a random word from the list; The fucntion Random.choice lets you do this\n",
    "random_word = random.choice(english_words)\n",
    "\n",
    "Character= input(\"input a character that is lowercase\")\n",
    "\n",
    "Word_list= list(random_word)\n",
    "ListNumb=0\n",
    "LenList = len(Word_list)\n",
    "Printing_Character= '#'\n",
    "Guessing_List= LenList * Printing_Character\n",
    "Guessing_List = list(Guessing_List)\n",
    "\n",
    "for ListNumb in range(LenList):\n",
    "    if Character== Word_list[ListNumb]:\n",
    "        ListNumb = ListNumb+1\n",
    "        Guessing_List[ListNumb]= Character\n",
    "        Character= input(\"input a character that is lowercase\")\n",
    "    else:\n",
    "        ListNumb = ListNumb+1\n",
    "print(Guessing_List)\n",
    "print(random_word)"
   ]
  },
  {
   "cell_type": "code",
   "execution_count": 154,
   "metadata": {},
   "outputs": [
    {
     "name": "stderr",
     "output_type": "stream",
     "text": [
      "[nltk_data] Downloading package words to /home/eneter/nltk_data...\n",
      "[nltk_data]   Package words is already up-to-date!\n"
     ]
    },
    {
     "name": "stdin",
     "output_type": "stream",
     "text": [
      "input a character that is lowercase a\n",
      "input a character that is lowercase e\n"
     ]
    },
    {
     "name": "stdout",
     "output_type": "stream",
     "text": [
      "['#', '#', '#', '#', '#', '#', '#', '#']\n"
     ]
    },
    {
     "name": "stdin",
     "output_type": "stream",
     "text": [
      "input a character that is lowercase i\n"
     ]
    },
    {
     "name": "stdout",
     "output_type": "stream",
     "text": [
      "['#', '#', '#', '#', '#', '#', '#', '#']\n"
     ]
    },
    {
     "name": "stdin",
     "output_type": "stream",
     "text": [
      "input a character that is lowercase u\n"
     ]
    },
    {
     "name": "stdout",
     "output_type": "stream",
     "text": [
      "['#', '#', '#', '#', '#', '#', '#', '#']\n"
     ]
    },
    {
     "name": "stdin",
     "output_type": "stream",
     "text": [
      "input a character that is lowercase n\n"
     ]
    },
    {
     "name": "stdout",
     "output_type": "stream",
     "text": [
      "['#', '#', '#', '#', '#', '#', '#', '#']\n"
     ]
    },
    {
     "name": "stdin",
     "output_type": "stream",
     "text": [
      "input a character that is lowercase l\n"
     ]
    },
    {
     "name": "stdout",
     "output_type": "stream",
     "text": [
      "['#', '#', '#', '#', '#', 'n', '#', '#']\n"
     ]
    },
    {
     "name": "stdin",
     "output_type": "stream",
     "text": [
      "input a character that is lowercase d\n"
     ]
    },
    {
     "name": "stdout",
     "output_type": "stream",
     "text": [
      "['#', '#', '#', '#', '#', 'n', '#', '#']\n"
     ]
    },
    {
     "name": "stdin",
     "output_type": "stream",
     "text": [
      "input a character that is lowercase r\n"
     ]
    },
    {
     "name": "stdout",
     "output_type": "stream",
     "text": [
      "['#', '#', '#', '#', '#', 'n', '#', '#']\n"
     ]
    },
    {
     "name": "stdin",
     "output_type": "stream",
     "text": [
      "input a character that is lowercase u\n"
     ]
    },
    {
     "name": "stdout",
     "output_type": "stream",
     "text": [
      "['#', '#', '#', '#', '#', 'n', '#', '#']\n",
      "['#', '#', '#', '#', '#', 'n', '#', '#']\n",
      "Satanity\n"
     ]
    }
   ],
   "source": [
    "import nltk\n",
    "nltk.download('words')\n",
    "\n",
    "from nltk.corpus import words\n",
    "import random\n",
    "\n",
    "# Get the list of English words; Making a list is like making a word bank where you can pull one word.\n",
    "english_words = words.words()\n",
    "\n",
    "# Select a random word from the list; The function random.choice lets you do this\n",
    "random_word = random.choice(english_words)\n",
    "\n",
    "Character = input(\"input a character that is lowercase\")\n",
    "\n",
    "Word_list = list(random_word)\n",
    "ListNumb = 0\n",
    "LenList = len(Word_list)\n",
    "Printing_Character = '#'\n",
    "Guessing_List = LenList * Printing_Character\n",
    "Guessing_List = list(Guessing_List)\n",
    "\n",
    "for ListNumb in range(LenList):\n",
    "    if Character == Word_list[ListNumb]:\n",
    "        ListNumb = ListNumb + 1\n",
    "        Guessing_List[ListNumb] = Character\n",
    "        Character = input(\"input a character that is lowercase\")\n",
    "        print(Guessing_List)\n",
    "    else:\n",
    "        ListNumb = ListNumb + 1\n",
    "        Character = input(\"input a character that is lowercase\")\n",
    "        print(Guessing_List)\n",
    "\n",
    "print(Guessing_List)\n",
    "print(random_word)"
   ]
  },
  {
   "cell_type": "code",
   "execution_count": 116,
   "metadata": {},
   "outputs": [
    {
     "name": "stderr",
     "output_type": "stream",
     "text": [
      "[nltk_data] Downloading package words to /home/eneter/nltk_data...\n",
      "[nltk_data]   Package words is already up-to-date!\n"
     ]
    },
    {
     "name": "stdin",
     "output_type": "stream",
     "text": [
      "input a character that is lowercase a\n"
     ]
    },
    {
     "name": "stdout",
     "output_type": "stream",
     "text": [
      "['#', '#', '#', '#', '#', '#', '#', '#', '#', '#', '#', '#', '#', '#', '#']\n",
      "['#', '#', '#', '#', '#', '#', '#', '#', '#', '#', '#', '#', '#', '#', '#']\n",
      "['#', '#', '#', '#', '#', '#', '#', '#', '#', '#', '#', '#', '#', '#', '#']\n",
      "['#', '#', '#', '#', '#', '#', '#', '#', '#', '#', '#', '#', '#', '#', '#']\n",
      "['#', '#', '#', '#', '#', '#', '#', '#', '#', '#', '#', '#', '#', '#', '#']\n",
      "['#', '#', '#', '#', '#', 'a', '#', '#', '#', '#', '#', '#', '#', '#', '#']\n",
      "['#', '#', '#', '#', '#', 'a', '#', '#', '#', '#', '#', '#', '#', '#', '#']\n",
      "['#', '#', '#', '#', '#', 'a', '#', '#', '#', '#', '#', '#', '#', '#', '#']\n",
      "['#', '#', '#', '#', '#', 'a', '#', '#', '#', '#', '#', '#', '#', '#', '#']\n",
      "['#', '#', '#', '#', '#', 'a', '#', '#', '#', 'a', '#', '#', '#', '#', '#']\n",
      "['#', '#', '#', '#', '#', 'a', '#', '#', '#', 'a', '#', '#', '#', '#', '#']\n",
      "['#', '#', '#', '#', '#', 'a', '#', '#', '#', 'a', '#', '#', '#', '#', '#']\n",
      "['#', '#', '#', '#', '#', 'a', '#', '#', '#', 'a', '#', '#', '#', '#', '#']\n",
      "['#', '#', '#', '#', '#', 'a', '#', '#', '#', 'a', '#', '#', '#', '#', '#']\n",
      "['#', '#', '#', '#', '#', 'a', '#', '#', '#', 'a', '#', '#', '#', '#', '#']\n"
     ]
    },
    {
     "ename": "KeyboardInterrupt",
     "evalue": "Interrupted by user",
     "output_type": "error",
     "traceback": [
      "\u001b[0;31m---------------------------------------------------------------------------\u001b[0m",
      "\u001b[0;31mKeyboardInterrupt\u001b[0m                         Traceback (most recent call last)",
      "\u001b[0;32m/tmp/ipykernel_16443/2990974071.py\u001b[0m in \u001b[0;36m<module>\u001b[0;34m\u001b[0m\n\u001b[1;32m     37\u001b[0m         \u001b[0mprint\u001b[0m\u001b[0;34m(\u001b[0m\u001b[0mGuessing_List\u001b[0m\u001b[0;34m)\u001b[0m\u001b[0;34m\u001b[0m\u001b[0;34m\u001b[0m\u001b[0m\n\u001b[1;32m     38\u001b[0m         \u001b[0mListNumb\u001b[0m \u001b[0;34m=\u001b[0m \u001b[0mListNumb\u001b[0m \u001b[0;34m+\u001b[0m \u001b[0;36m1\u001b[0m\u001b[0;34m\u001b[0m\u001b[0;34m\u001b[0m\u001b[0m\n\u001b[0;32m---> 39\u001b[0;31m \u001b[0mCharacter\u001b[0m \u001b[0;34m=\u001b[0m \u001b[0minput\u001b[0m\u001b[0;34m(\u001b[0m\u001b[0;34m\"input a character that is lowercase\"\u001b[0m\u001b[0;34m)\u001b[0m\u001b[0;34m\u001b[0m\u001b[0;34m\u001b[0m\u001b[0m\n\u001b[0m\u001b[1;32m     40\u001b[0m \u001b[0;34m\u001b[0m\u001b[0m\n\u001b[1;32m     41\u001b[0m \u001b[0mprint\u001b[0m\u001b[0;34m(\u001b[0m\u001b[0mGuessing_List\u001b[0m\u001b[0;34m)\u001b[0m\u001b[0;34m\u001b[0m\u001b[0;34m\u001b[0m\u001b[0m\n",
      "\u001b[0;32m~/.local/lib/python3.10/site-packages/ipykernel/kernelbase.py\u001b[0m in \u001b[0;36mraw_input\u001b[0;34m(self, prompt)\u001b[0m\n\u001b[1;32m   1200\u001b[0m             \u001b[0mmsg\u001b[0m \u001b[0;34m=\u001b[0m \u001b[0;34m\"raw_input was called, but this frontend does not support input requests.\"\u001b[0m\u001b[0;34m\u001b[0m\u001b[0;34m\u001b[0m\u001b[0m\n\u001b[1;32m   1201\u001b[0m             \u001b[0;32mraise\u001b[0m \u001b[0mStdinNotImplementedError\u001b[0m\u001b[0;34m(\u001b[0m\u001b[0mmsg\u001b[0m\u001b[0;34m)\u001b[0m\u001b[0;34m\u001b[0m\u001b[0;34m\u001b[0m\u001b[0m\n\u001b[0;32m-> 1202\u001b[0;31m         return self._input_request(\n\u001b[0m\u001b[1;32m   1203\u001b[0m             \u001b[0mstr\u001b[0m\u001b[0;34m(\u001b[0m\u001b[0mprompt\u001b[0m\u001b[0;34m)\u001b[0m\u001b[0;34m,\u001b[0m\u001b[0;34m\u001b[0m\u001b[0;34m\u001b[0m\u001b[0m\n\u001b[1;32m   1204\u001b[0m             \u001b[0mself\u001b[0m\u001b[0;34m.\u001b[0m\u001b[0m_parent_ident\u001b[0m\u001b[0;34m[\u001b[0m\u001b[0;34m\"shell\"\u001b[0m\u001b[0;34m]\u001b[0m\u001b[0;34m,\u001b[0m\u001b[0;34m\u001b[0m\u001b[0;34m\u001b[0m\u001b[0m\n",
      "\u001b[0;32m~/.local/lib/python3.10/site-packages/ipykernel/kernelbase.py\u001b[0m in \u001b[0;36m_input_request\u001b[0;34m(self, prompt, ident, parent, password)\u001b[0m\n\u001b[1;32m   1243\u001b[0m                 \u001b[0;31m# re-raise KeyboardInterrupt, to truncate traceback\u001b[0m\u001b[0;34m\u001b[0m\u001b[0;34m\u001b[0m\u001b[0m\n\u001b[1;32m   1244\u001b[0m                 \u001b[0mmsg\u001b[0m \u001b[0;34m=\u001b[0m \u001b[0;34m\"Interrupted by user\"\u001b[0m\u001b[0;34m\u001b[0m\u001b[0;34m\u001b[0m\u001b[0m\n\u001b[0;32m-> 1245\u001b[0;31m                 \u001b[0;32mraise\u001b[0m \u001b[0mKeyboardInterrupt\u001b[0m\u001b[0;34m(\u001b[0m\u001b[0mmsg\u001b[0m\u001b[0;34m)\u001b[0m \u001b[0;32mfrom\u001b[0m \u001b[0;32mNone\u001b[0m\u001b[0;34m\u001b[0m\u001b[0;34m\u001b[0m\u001b[0m\n\u001b[0m\u001b[1;32m   1246\u001b[0m             \u001b[0;32mexcept\u001b[0m \u001b[0mException\u001b[0m\u001b[0;34m:\u001b[0m\u001b[0;34m\u001b[0m\u001b[0;34m\u001b[0m\u001b[0m\n\u001b[1;32m   1247\u001b[0m                 \u001b[0mself\u001b[0m\u001b[0;34m.\u001b[0m\u001b[0mlog\u001b[0m\u001b[0;34m.\u001b[0m\u001b[0mwarning\u001b[0m\u001b[0;34m(\u001b[0m\u001b[0;34m\"Invalid Message:\"\u001b[0m\u001b[0;34m,\u001b[0m \u001b[0mexc_info\u001b[0m\u001b[0;34m=\u001b[0m\u001b[0;32mTrue\u001b[0m\u001b[0;34m)\u001b[0m\u001b[0;34m\u001b[0m\u001b[0;34m\u001b[0m\u001b[0m\n",
      "\u001b[0;31mKeyboardInterrupt\u001b[0m: Interrupted by user"
     ]
    },
    {
     "name": "stdin",
     "output_type": "stream",
     "text": [
      "input a character that is lowercase a\n"
     ]
    }
   ],
   "source": [
    "import nltk\n",
    "nltk.download('words')\n",
    "\n",
    "from nltk.corpus import words\n",
    "import random\n",
    "\n",
    "# Get the list of English words; Making a list is like making a word bank where you can pull one word.\n",
    "english_words = words.words()\n",
    "\n",
    "# Select a random word from the list; The function random.choice lets you do this\n",
    "random_word = random.choice(english_words)\n",
    "\n",
    "Character = input(\"input a character that is lowercase\")\n",
    "\n",
    "Word_list = list(random_word)\n",
    "\n",
    "ListNumb = 0\n",
    "\n",
    "Guessing_Tries = -3\n",
    "\n",
    "LenList = len(Word_list)\n",
    "a\n",
    "\n",
    "Printing_Character = '#'\n",
    "\n",
    "Guessing_List = LenList * Printing_Character\n",
    "\n",
    "Guessing_List = list(Guessing_List)\n",
    "\n",
    "Duplicate_Numb=0\n",
    "\n",
    "for ListNumb in range(LenList):\n",
    "    if Character == Word_list[ListNumb]:\n",
    "        Guessing_List[ListNumb] = Character   \n",
    "        ListNumb = ListNumb + 1\n",
    "        print(Guessing_List)\n",
    "    else:\n",
    "        print(Guessing_List)\n",
    "        ListNumb = ListNumb + 1\n",
    "Character = input(\"input a character that is lowercase\")\n",
    "\n",
    "print(Guessing_List)\n",
    "print(random_word)"
   ]
  },
  {
   "cell_type": "code",
   "execution_count": 157,
   "metadata": {},
   "outputs": [
    {
     "name": "stderr",
     "output_type": "stream",
     "text": [
      "[nltk_data] Downloading package words to /home/eneter/nltk_data...\n",
      "[nltk_data]   Package words is already up-to-date!\n"
     ]
    },
    {
     "name": "stdin",
     "output_type": "stream",
     "text": [
      "input a character that is lowercase a\n"
     ]
    },
    {
     "name": "stdout",
     "output_type": "stream",
     "text": [
      "['#', '#', '#', '#', '#', '#']\n",
      "lanket\n"
     ]
    }
   ],
   "source": [
    "import nltk\n",
    "nltk.download('words')\n",
    "\n",
    "from nltk.corpus import words\n",
    "import random\n",
    "\n",
    "# Get the list of English words; Making a list is like making a word bank where you can pull one word.\n",
    "english_words = words.words()\n",
    "\n",
    "# Select a random word from the list; The function random.choice lets you do this\n",
    "random_word = random.choice(english_words)\n",
    "\n",
    "Character = input(\"input a character that is lowercase\")\n",
    "\n",
    "Word_list = list(random_word)\n",
    "ListNumb = 0\n",
    "Guessing_Tries = -3\n",
    "LenList = len(Word_list)\n",
    "\n",
    "Printing_Character = '#'\n",
    "Guessing_List = LenList * Printing_Character\n",
    "Guessing_List = list(Guessing_List)\n",
    "\n",
    "while x in range(10):\n",
    "    for Guessing_Tries in range(LenList):\n",
    "        if Character == Word_list[ListNumb]:\n",
    "            Guessing_List[ListNumb] = Character\n",
    "            ListNumb = ListNumb + 1\n",
    "        elif ListNumb<LenList:\n",
    "            ListNumb = ListNumb + 1\n",
    "        else:\n",
    "            Guessing_Tries= Guessing_Tries + 1\n",
    "            Character = input(\"input a character that is lowercase\")\n",
    "            print(Guessing_List)\n",
    "            ListNumb = 0 \n",
    "    \n",
    "    \n",
    "\n",
    "\n",
    "print(Guessing_List)\n",
    "print(random_word)"
   ]
  },
  {
   "cell_type": "code",
   "execution_count": 85,
   "metadata": {},
   "outputs": [
    {
     "name": "stdout",
     "output_type": "stream",
     "text": [
      "Congratulations! You guessed the word: woesome\n"
     ]
    }
   ],
   "source": [
    "# Initialize Guessing_Tries\n",
    "Guessing_Tries = 0\n",
    "\n",
    "while '_' in Guessing_List and Guessing_Tries < 6:  # Limit to 6 incorrect guesses\n",
    "    Character = input(\"Input a lowercase character: \").lower()\n",
    "\n",
    "    if len(Character) != 1 or not Character.islower():\n",
    "        print(\"Invalid input. Please enter a lowercase character.\")\n",
    "        continue\n",
    "\n",
    "    character_found = False\n",
    "\n",
    "    for ListNumb in range(LenList):\n",
    "        if Character == Word_list[ListNumb]:\n",
    "            Guessing_List[ListNumb] = Character\n",
    "            character_found = True\n",
    "\n",
    "    if not character_found:\n",
    "        print(f\"{Character} is not in the word.\")\n",
    "        Guessing_Tries += 1\n",
    "\n",
    "    # Display the current state of the word\n",
    "    print(\" \".join(Guessing_List))\n",
    "\n",
    "# End of the game\n",
    "if '_' not in Guessing_List:\n",
    "    print(\"Congratulations! You guessed the word:\", random_word)\n",
    "else:\n",
    "    print(\"Sorry, you ran out of guesses. The word was:\", random_word)\n"
   ]
  },
  {
   "cell_type": "code",
   "execution_count": 91,
   "metadata": {},
   "outputs": [
    {
     "name": "stderr",
     "output_type": "stream",
     "text": [
      "[nltk_data] Downloading package words to /home/eneter/nltk_data...\n",
      "[nltk_data]   Package words is already up-to-date!\n"
     ]
    },
    {
     "name": "stdin",
     "output_type": "stream",
     "text": [
      "input a character that is lowercase a\n",
      "input a character that is lowercase e\n"
     ]
    },
    {
     "name": "stdout",
     "output_type": "stream",
     "text": [
      "['#', '#', '#', '#', '#', '#']\n"
     ]
    }
   ],
   "source": [
    "import nltk\n",
    "nltk.download('words')\n",
    "\n",
    "from nltk.corpus import words\n",
    "import random\n",
    "\n",
    "# Get the list of English words; Making a list is like making a word bank where you can pull one word.\n",
    "english_words = words.words()\n",
    "\n",
    "# Select a random word from the list; The function random.choice lets you do this\n",
    "random_word = random.choice(english_words)\n",
    "\n",
    "Character = input(\"input a character that is lowercase\")\n",
    "\n",
    "Word_list = list(random_word)\n",
    "ListNumb = 0\n",
    "Guessing_Tries = -3\n",
    "LenList = len(Word_list)\n",
    "Printing_Character = '#'\n",
    "Guessing_List = LenList * Printing_Character\n",
    "Guessing_List = list(Guessing_List)\n",
    "Duplicate_Numb=0\n",
    "\n",
    "\n",
    "for Guessing_Tries in range(LenList):\n",
    "    if Character == Word_list[ListNumb]:\n",
    "        Guessing_List[ListNumb] = Character\n",
    "    ListNumb = ListNumb + 1\n",
    "\n",
    "Character = input(\"input a character that is lowercase\")\n",
    "print(Guessing_List)"
   ]
  },
  {
   "cell_type": "code",
   "execution_count": 101,
   "metadata": {},
   "outputs": [
    {
     "name": "stdout",
     "output_type": "stream",
     "text": [
      "['#', '#', '#', '#', '#', '#', '#', '#', '#', '#', '#', '#', '#']\n"
     ]
    }
   ],
   "source": [
    "Printing_Character = '#'\n",
    "Guessing_List = LenList * Printing_Character\n",
    "Guessing_List = list(Guessing_List)\n",
    "print(Guessing_List)"
   ]
  },
  {
   "cell_type": "code",
   "execution_count": 143,
   "metadata": {},
   "outputs": [
    {
     "name": "stderr",
     "output_type": "stream",
     "text": [
      "[nltk_data] Downloading package words to /home/eneter/nltk_data...\n",
      "[nltk_data]   Package words is already up-to-date!\n"
     ]
    },
    {
     "name": "stdin",
     "output_type": "stream",
     "text": [
      "input a character that is lowercase a\n"
     ]
    },
    {
     "name": "stdout",
     "output_type": "stream",
     "text": [
      "['#', '#', '#', '#', '#', '#', '#', '#', '#', '#']\n",
      "Chamaerops\n"
     ]
    }
   ],
   "source": [
    "import nltk\n",
    "nltk.download('words')\n",
    "\n",
    "from nltk.corpus import words\n",
    "import random\n",
    "\n",
    "# Get the list of English words; Making a list is like making a word bank where you can pull one word.\n",
    "english_words = words.words()\n",
    "\n",
    "# Select a random word from the list; The function random.choice lets you do this\n",
    "random_word = random.choice(english_words)\n",
    "\n",
    "Word_list = list(random_word)\n",
    "ListNumb = 0\n",
    "Guessing_Tries = -3\n",
    "LenList = len(Word_list)\n",
    "\n",
    "Printing_Character = '#'\n",
    "Guessing_List = LenList * Printing_Character\n",
    "Guessing_List = list(Guessing_List)\n",
    "\n",
    "    \n",
    "Character = input(\"input a character that is lowercase\")\n",
    "\n",
    "for ListNumb in range(LenList):\n",
    "    if Character == Word_list[ListNumb]:\n",
    "        Guessing_List[ListNumb] = Character\n",
    "        ListNumb = ListNumb + 1\n",
    "        break\n",
    "    elif ListNumb<LenList:\n",
    "        ListNumb = ListNumb + 1\n",
    "    elif ListNumb>LenList:\n",
    "        Guessing_Tries= Guessing_Tries + 1\n",
    "        Character = input(\"input a character that is lowercase\")\n",
    "        print(Guessing_List)\n",
    "        ListNumb = 0 \n",
    "\n",
    "print(Guessing_List)\n",
    "print(random_word)"
   ]
  },
  {
   "cell_type": "code",
   "execution_count": null,
   "metadata": {},
   "outputs": [],
   "source": []
  }
 ],
 "metadata": {
  "kernelspec": {
   "display_name": "Python 3 (ipykernel)",
   "language": "python",
   "name": "python3"
  },
  "language_info": {
   "codemirror_mode": {
    "name": "ipython",
    "version": 3
   },
   "file_extension": ".py",
   "mimetype": "text/x-python",
   "name": "python",
   "nbconvert_exporter": "python",
   "pygments_lexer": "ipython3",
   "version": "3.10.12"
  }
 },
 "nbformat": 4,
 "nbformat_minor": 4
}
